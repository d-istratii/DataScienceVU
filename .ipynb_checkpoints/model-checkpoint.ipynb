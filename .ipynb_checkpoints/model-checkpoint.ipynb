{
 "cells": [
  {
   "cell_type": "code",
   "execution_count": 69,
   "metadata": {},
   "outputs": [],
   "source": [
    "import pandas as pd \n",
    "import seaborn as sns\n",
    "import numpy as np \n",
    "import matplotlib.pyplot as plt\n",
    "%matplotlib inline\n",
    "\n",
    "from matplotlib.pylab import rcParams\n",
    "from scipy.stats import norm    \n",
    "from scipy import stats \n",
    "\n",
    "from sklearn import metrics\n",
    "from sklearn.preprocessing import StandardScaler, LabelEncoder\n",
    "from sklearn.model_selection import train_test_split\n",
    "from sklearn.linear_model import LinearRegression\n",
    "\n",
    "import warnings\n",
    "warnings.filterwarnings('ignore')"
   ]
  },
  {
   "cell_type": "code",
   "execution_count": 2,
   "metadata": {},
   "outputs": [],
   "source": [
    "dataFrame = pd.read_csv('KS_train_data.csv')"
   ]
  },
  {
   "cell_type": "code",
   "execution_count": 3,
   "metadata": {},
   "outputs": [
    {
     "name": "stdout",
     "output_type": "stream",
     "text": [
      "Index(['project_id', 'backers_count', 'blurb', 'category',\n",
      "       'converted_pledged_amount', 'country', 'created_at', 'currency',\n",
      "       'deadline', 'fx_rate', 'goal', 'launched_at', 'name', 'pledged',\n",
      "       'staff_pick', 'usd_pledged', 'location', 'funded', 'subcategory',\n",
      "       'project_url', 'reward_url'],\n",
      "      dtype='object')\n"
     ]
    }
   ],
   "source": [
    "print(dataFrame.columns)"
   ]
  },
  {
   "cell_type": "code",
   "execution_count": 4,
   "metadata": {},
   "outputs": [
    {
     "data": {
      "text/html": [
       "<div>\n",
       "<style scoped>\n",
       "    .dataframe tbody tr th:only-of-type {\n",
       "        vertical-align: middle;\n",
       "    }\n",
       "\n",
       "    .dataframe tbody tr th {\n",
       "        vertical-align: top;\n",
       "    }\n",
       "\n",
       "    .dataframe thead th {\n",
       "        text-align: right;\n",
       "    }\n",
       "</style>\n",
       "<table border=\"1\" class=\"dataframe\">\n",
       "  <thead>\n",
       "    <tr style=\"text-align: right;\">\n",
       "      <th></th>\n",
       "      <th>project_id</th>\n",
       "      <th>backers_count</th>\n",
       "      <th>blurb</th>\n",
       "      <th>category</th>\n",
       "      <th>converted_pledged_amount</th>\n",
       "      <th>country</th>\n",
       "      <th>created_at</th>\n",
       "      <th>currency</th>\n",
       "      <th>deadline</th>\n",
       "      <th>fx_rate</th>\n",
       "      <th>...</th>\n",
       "      <th>launched_at</th>\n",
       "      <th>name</th>\n",
       "      <th>pledged</th>\n",
       "      <th>staff_pick</th>\n",
       "      <th>usd_pledged</th>\n",
       "      <th>location</th>\n",
       "      <th>funded</th>\n",
       "      <th>subcategory</th>\n",
       "      <th>project_url</th>\n",
       "      <th>reward_url</th>\n",
       "    </tr>\n",
       "  </thead>\n",
       "  <tbody>\n",
       "    <tr>\n",
       "      <th>0</th>\n",
       "      <td>KS_000000</td>\n",
       "      <td>80</td>\n",
       "      <td>I will be an artist-in-residence at Elsewhere ...</td>\n",
       "      <td>art</td>\n",
       "      <td>3596</td>\n",
       "      <td>US</td>\n",
       "      <td>1325980505</td>\n",
       "      <td>USD</td>\n",
       "      <td>1334866560</td>\n",
       "      <td>1.0</td>\n",
       "      <td>...</td>\n",
       "      <td>1332969260</td>\n",
       "      <td>Elsewhere Studios artist-in-residency program!</td>\n",
       "      <td>3596.00</td>\n",
       "      <td>False</td>\n",
       "      <td>3596.00</td>\n",
       "      <td>Paonia, CO</td>\n",
       "      <td>True</td>\n",
       "      <td>mixed media</td>\n",
       "      <td>https://www.kickstarter.com/projects/hilaryeme...</td>\n",
       "      <td>https://www.kickstarter.com/projects/hilaryeme...</td>\n",
       "    </tr>\n",
       "    <tr>\n",
       "      <th>1</th>\n",
       "      <td>KS_000001</td>\n",
       "      <td>82</td>\n",
       "      <td>1000 Artists is a public art-making installati...</td>\n",
       "      <td>art</td>\n",
       "      <td>4586</td>\n",
       "      <td>US</td>\n",
       "      <td>1330926084</td>\n",
       "      <td>USD</td>\n",
       "      <td>1336440145</td>\n",
       "      <td>1.0</td>\n",
       "      <td>...</td>\n",
       "      <td>1332984145</td>\n",
       "      <td>1000 Artists: Presidential Inauguration 2013</td>\n",
       "      <td>4586.00</td>\n",
       "      <td>False</td>\n",
       "      <td>4586.00</td>\n",
       "      <td>Washington, DC</td>\n",
       "      <td>True</td>\n",
       "      <td>public art</td>\n",
       "      <td>https://www.kickstarter.com/projects/17146650/...</td>\n",
       "      <td>https://www.kickstarter.com/projects/17146650/...</td>\n",
       "    </tr>\n",
       "    <tr>\n",
       "      <th>2</th>\n",
       "      <td>KS_000002</td>\n",
       "      <td>21</td>\n",
       "      <td>The Sequel to ‘My Favorite Machine”, \"MyPhoneH...</td>\n",
       "      <td>art</td>\n",
       "      <td>5217</td>\n",
       "      <td>US</td>\n",
       "      <td>1332382894</td>\n",
       "      <td>USD</td>\n",
       "      <td>1338175739</td>\n",
       "      <td>1.0</td>\n",
       "      <td>...</td>\n",
       "      <td>1332991739</td>\n",
       "      <td>MyPhoneHenge</td>\n",
       "      <td>5217.00</td>\n",
       "      <td>False</td>\n",
       "      <td>5217.00</td>\n",
       "      <td>Frisco, TX</td>\n",
       "      <td>True</td>\n",
       "      <td>sculpture</td>\n",
       "      <td>https://www.kickstarter.com/projects/belveal/m...</td>\n",
       "      <td>https://www.kickstarter.com/projects/belveal/m...</td>\n",
       "    </tr>\n",
       "    <tr>\n",
       "      <th>3</th>\n",
       "      <td>KS_000003</td>\n",
       "      <td>37</td>\n",
       "      <td>A film exploring the role and value of art edu...</td>\n",
       "      <td>art</td>\n",
       "      <td>7160</td>\n",
       "      <td>GB</td>\n",
       "      <td>1332342451</td>\n",
       "      <td>USD</td>\n",
       "      <td>1334806096</td>\n",
       "      <td>1.0</td>\n",
       "      <td>...</td>\n",
       "      <td>1332991696</td>\n",
       "      <td>Walk-Through</td>\n",
       "      <td>7160.00</td>\n",
       "      <td>False</td>\n",
       "      <td>7160.00</td>\n",
       "      <td>Glasgow, UK</td>\n",
       "      <td>True</td>\n",
       "      <td>art</td>\n",
       "      <td>https://www.kickstarter.com/projects/107813091...</td>\n",
       "      <td>https://www.kickstarter.com/projects/107813091...</td>\n",
       "    </tr>\n",
       "    <tr>\n",
       "      <th>4</th>\n",
       "      <td>KS_000004</td>\n",
       "      <td>153</td>\n",
       "      <td>We need to build a kitchen for Habitable Space...</td>\n",
       "      <td>art</td>\n",
       "      <td>15445</td>\n",
       "      <td>US</td>\n",
       "      <td>1328562617</td>\n",
       "      <td>USD</td>\n",
       "      <td>1335584240</td>\n",
       "      <td>1.0</td>\n",
       "      <td>...</td>\n",
       "      <td>1332992240</td>\n",
       "      <td>A kitchen for Habitable Spaces</td>\n",
       "      <td>15445.00</td>\n",
       "      <td>False</td>\n",
       "      <td>15445.00</td>\n",
       "      <td>Kingsbury, TX</td>\n",
       "      <td>True</td>\n",
       "      <td>public art</td>\n",
       "      <td>https://www.kickstarter.com/projects/104409276...</td>\n",
       "      <td>https://www.kickstarter.com/projects/104409276...</td>\n",
       "    </tr>\n",
       "    <tr>\n",
       "      <th>5</th>\n",
       "      <td>KS_000005</td>\n",
       "      <td>18</td>\n",
       "      <td>Source Material is 2 person exhibition of the ...</td>\n",
       "      <td>art</td>\n",
       "      <td>2190</td>\n",
       "      <td>US</td>\n",
       "      <td>1331239703</td>\n",
       "      <td>USD</td>\n",
       "      <td>1336090320</td>\n",
       "      <td>1.0</td>\n",
       "      <td>...</td>\n",
       "      <td>1333017856</td>\n",
       "      <td>Source Material: Works by Brian Dupont and Chr...</td>\n",
       "      <td>2190.00</td>\n",
       "      <td>False</td>\n",
       "      <td>2190.00</td>\n",
       "      <td>Houston, TX</td>\n",
       "      <td>True</td>\n",
       "      <td>painting</td>\n",
       "      <td>https://www.kickstarter.com/projects/973860748...</td>\n",
       "      <td>https://www.kickstarter.com/projects/973860748...</td>\n",
       "    </tr>\n",
       "    <tr>\n",
       "      <th>6</th>\n",
       "      <td>KS_000006</td>\n",
       "      <td>156</td>\n",
       "      <td>An anthropological field study of the Dwarven ...</td>\n",
       "      <td>art</td>\n",
       "      <td>5429</td>\n",
       "      <td>US</td>\n",
       "      <td>1332802530</td>\n",
       "      <td>USD</td>\n",
       "      <td>1334030340</td>\n",
       "      <td>1.0</td>\n",
       "      <td>...</td>\n",
       "      <td>1333045464</td>\n",
       "      <td>A Book of Dwarves</td>\n",
       "      <td>5429.95</td>\n",
       "      <td>False</td>\n",
       "      <td>5429.95</td>\n",
       "      <td>Chicago, IL</td>\n",
       "      <td>True</td>\n",
       "      <td>art</td>\n",
       "      <td>https://www.kickstarter.com/projects/136757708...</td>\n",
       "      <td>https://www.kickstarter.com/projects/136757708...</td>\n",
       "    </tr>\n",
       "    <tr>\n",
       "      <th>7</th>\n",
       "      <td>KS_000007</td>\n",
       "      <td>479</td>\n",
       "      <td>Portrait artist seeks funds to kickstart an ex...</td>\n",
       "      <td>art</td>\n",
       "      <td>62736</td>\n",
       "      <td>US</td>\n",
       "      <td>1331325438</td>\n",
       "      <td>USD</td>\n",
       "      <td>1335671940</td>\n",
       "      <td>1.0</td>\n",
       "      <td>...</td>\n",
       "      <td>1332822807</td>\n",
       "      <td>Drawing a Drawing 365</td>\n",
       "      <td>62736.01</td>\n",
       "      <td>True</td>\n",
       "      <td>62736.01</td>\n",
       "      <td>New Britain, CT</td>\n",
       "      <td>True</td>\n",
       "      <td>painting</td>\n",
       "      <td>https://www.kickstarter.com/projects/michaelsh...</td>\n",
       "      <td>https://www.kickstarter.com/projects/michaelsh...</td>\n",
       "    </tr>\n",
       "    <tr>\n",
       "      <th>8</th>\n",
       "      <td>KS_000008</td>\n",
       "      <td>41</td>\n",
       "      <td>This is a month long Residency at the The Verm...</td>\n",
       "      <td>art</td>\n",
       "      <td>2930</td>\n",
       "      <td>US</td>\n",
       "      <td>1331904129</td>\n",
       "      <td>USD</td>\n",
       "      <td>1336736610</td>\n",
       "      <td>1.0</td>\n",
       "      <td>...</td>\n",
       "      <td>1332848610</td>\n",
       "      <td>The Vermont Studio Center Artist Residency Pro...</td>\n",
       "      <td>2930.00</td>\n",
       "      <td>True</td>\n",
       "      <td>2930.00</td>\n",
       "      <td>Johnson, VT</td>\n",
       "      <td>True</td>\n",
       "      <td>painting</td>\n",
       "      <td>https://www.kickstarter.com/projects/106325273...</td>\n",
       "      <td>https://www.kickstarter.com/projects/106325273...</td>\n",
       "    </tr>\n",
       "    <tr>\n",
       "      <th>9</th>\n",
       "      <td>KS_000009</td>\n",
       "      <td>25</td>\n",
       "      <td>Art, Music, and Theater live on the Waterfront...</td>\n",
       "      <td>art</td>\n",
       "      <td>5001</td>\n",
       "      <td>US</td>\n",
       "      <td>1330979179</td>\n",
       "      <td>USD</td>\n",
       "      <td>1335443088</td>\n",
       "      <td>1.0</td>\n",
       "      <td>...</td>\n",
       "      <td>1332851088</td>\n",
       "      <td>Arts on the Waterfront</td>\n",
       "      <td>5001.00</td>\n",
       "      <td>False</td>\n",
       "      <td>5001.00</td>\n",
       "      <td>Seattle, WA</td>\n",
       "      <td>True</td>\n",
       "      <td>public art</td>\n",
       "      <td>https://www.kickstarter.com/projects/139851890...</td>\n",
       "      <td>https://www.kickstarter.com/projects/139851890...</td>\n",
       "    </tr>\n",
       "  </tbody>\n",
       "</table>\n",
       "<p>10 rows × 21 columns</p>\n",
       "</div>"
      ],
      "text/plain": [
       "  project_id  backers_count  \\\n",
       "0  KS_000000             80   \n",
       "1  KS_000001             82   \n",
       "2  KS_000002             21   \n",
       "3  KS_000003             37   \n",
       "4  KS_000004            153   \n",
       "5  KS_000005             18   \n",
       "6  KS_000006            156   \n",
       "7  KS_000007            479   \n",
       "8  KS_000008             41   \n",
       "9  KS_000009             25   \n",
       "\n",
       "                                               blurb category  \\\n",
       "0  I will be an artist-in-residence at Elsewhere ...      art   \n",
       "1  1000 Artists is a public art-making installati...      art   \n",
       "2  The Sequel to ‘My Favorite Machine”, \"MyPhoneH...      art   \n",
       "3  A film exploring the role and value of art edu...      art   \n",
       "4  We need to build a kitchen for Habitable Space...      art   \n",
       "5  Source Material is 2 person exhibition of the ...      art   \n",
       "6  An anthropological field study of the Dwarven ...      art   \n",
       "7  Portrait artist seeks funds to kickstart an ex...      art   \n",
       "8  This is a month long Residency at the The Verm...      art   \n",
       "9  Art, Music, and Theater live on the Waterfront...      art   \n",
       "\n",
       "   converted_pledged_amount country  created_at currency    deadline  fx_rate  \\\n",
       "0                      3596      US  1325980505      USD  1334866560      1.0   \n",
       "1                      4586      US  1330926084      USD  1336440145      1.0   \n",
       "2                      5217      US  1332382894      USD  1338175739      1.0   \n",
       "3                      7160      GB  1332342451      USD  1334806096      1.0   \n",
       "4                     15445      US  1328562617      USD  1335584240      1.0   \n",
       "5                      2190      US  1331239703      USD  1336090320      1.0   \n",
       "6                      5429      US  1332802530      USD  1334030340      1.0   \n",
       "7                     62736      US  1331325438      USD  1335671940      1.0   \n",
       "8                      2930      US  1331904129      USD  1336736610      1.0   \n",
       "9                      5001      US  1330979179      USD  1335443088      1.0   \n",
       "\n",
       "   ...  launched_at                                               name  \\\n",
       "0  ...   1332969260     Elsewhere Studios artist-in-residency program!   \n",
       "1  ...   1332984145       1000 Artists: Presidential Inauguration 2013   \n",
       "2  ...   1332991739                                       MyPhoneHenge   \n",
       "3  ...   1332991696                                       Walk-Through   \n",
       "4  ...   1332992240                     A kitchen for Habitable Spaces   \n",
       "5  ...   1333017856  Source Material: Works by Brian Dupont and Chr...   \n",
       "6  ...   1333045464                                  A Book of Dwarves   \n",
       "7  ...   1332822807                              Drawing a Drawing 365   \n",
       "8  ...   1332848610  The Vermont Studio Center Artist Residency Pro...   \n",
       "9  ...   1332851088                             Arts on the Waterfront   \n",
       "\n",
       "    pledged  staff_pick  usd_pledged         location funded  subcategory  \\\n",
       "0   3596.00       False      3596.00       Paonia, CO   True  mixed media   \n",
       "1   4586.00       False      4586.00   Washington, DC   True   public art   \n",
       "2   5217.00       False      5217.00       Frisco, TX   True    sculpture   \n",
       "3   7160.00       False      7160.00      Glasgow, UK   True          art   \n",
       "4  15445.00       False     15445.00    Kingsbury, TX   True   public art   \n",
       "5   2190.00       False      2190.00      Houston, TX   True     painting   \n",
       "6   5429.95       False      5429.95      Chicago, IL   True          art   \n",
       "7  62736.01        True     62736.01  New Britain, CT   True     painting   \n",
       "8   2930.00        True      2930.00      Johnson, VT   True     painting   \n",
       "9   5001.00       False      5001.00      Seattle, WA   True   public art   \n",
       "\n",
       "                                         project_url  \\\n",
       "0  https://www.kickstarter.com/projects/hilaryeme...   \n",
       "1  https://www.kickstarter.com/projects/17146650/...   \n",
       "2  https://www.kickstarter.com/projects/belveal/m...   \n",
       "3  https://www.kickstarter.com/projects/107813091...   \n",
       "4  https://www.kickstarter.com/projects/104409276...   \n",
       "5  https://www.kickstarter.com/projects/973860748...   \n",
       "6  https://www.kickstarter.com/projects/136757708...   \n",
       "7  https://www.kickstarter.com/projects/michaelsh...   \n",
       "8  https://www.kickstarter.com/projects/106325273...   \n",
       "9  https://www.kickstarter.com/projects/139851890...   \n",
       "\n",
       "                                          reward_url  \n",
       "0  https://www.kickstarter.com/projects/hilaryeme...  \n",
       "1  https://www.kickstarter.com/projects/17146650/...  \n",
       "2  https://www.kickstarter.com/projects/belveal/m...  \n",
       "3  https://www.kickstarter.com/projects/107813091...  \n",
       "4  https://www.kickstarter.com/projects/104409276...  \n",
       "5  https://www.kickstarter.com/projects/973860748...  \n",
       "6  https://www.kickstarter.com/projects/136757708...  \n",
       "7  https://www.kickstarter.com/projects/michaelsh...  \n",
       "8  https://www.kickstarter.com/projects/106325273...  \n",
       "9  https://www.kickstarter.com/projects/139851890...  \n",
       "\n",
       "[10 rows x 21 columns]"
      ]
     },
     "execution_count": 4,
     "metadata": {},
     "output_type": "execute_result"
    }
   ],
   "source": [
    "dataFrame.head(10)"
   ]
  },
  {
   "cell_type": "markdown",
   "metadata": {},
   "source": [
    "***\n",
    "```\n",
    "COL's VARS:\n",
    "\n",
    "1)project_id\n",
    "2)backers_count : number of supporters of the project (quantitative)\n",
    "3)blurb : description of the project (qualitative)\n",
    "4)category (qualitative)\n",
    "5)converted_pledged_amount : funding amount ?? (quantitative). It's into integers\n",
    "6)country (qualitative)\n",
    "7)created_at (quantitative)\n",
    "8)currency (qualitative)\n",
    "9)deadline (quanatitative)\n",
    "10)fx_rate : exchange rate (quantitative)\n",
    "11)goal : goal of expected fundings (quantitative)\n",
    "12)launched_at: (quantitative)\n",
    "13)name : name of the project (qualitative)\n",
    "14)pledged : funding amount ?? (quantitative). It's into floats (.00)\n",
    "15)staff_pick : projects picked or not picked (Boolean -> True/False)\n",
    "16)usd_pledged : funding amount in dollars ?? (quantitative). It's into floats (.00) != pledged\n",
    "17)location: City, State(abbreviation)/Country \n",
    "18)funded : projects funded or not funded (Boolean -> True/False) --> MOST IMPORTANT\n",
    "19)subcategory (qualitative)\n",
    "20)project_url (link)\n",
    "21)reward_url (link)\n",
    "\n",
    "```\n",
    "***"
   ]
  },
  {
   "cell_type": "code",
   "execution_count": 5,
   "metadata": {},
   "outputs": [
    {
     "data": {
      "text/plain": [
       "count     100000\n",
       "unique         2\n",
       "top         True\n",
       "freq       58454\n",
       "Name: funded, dtype: object"
      ]
     },
     "execution_count": 5,
     "metadata": {},
     "output_type": "execute_result"
    }
   ],
   "source": [
    "dataFrame['funded'].describe()"
   ]
  },
  {
   "cell_type": "markdown",
   "metadata": {},
   "source": [
    "***\n",
    "```\n",
    "Most projects have been funded (58454) compared to (41546) not funded\n",
    "\n",
    "```\n",
    "***"
   ]
  },
  {
   "cell_type": "code",
   "execution_count": 6,
   "metadata": {},
   "outputs": [
    {
     "data": {
      "text/plain": [
       "<matplotlib.axes._subplots.AxesSubplot at 0x7f8867490bd0>"
      ]
     },
     "execution_count": 6,
     "metadata": {},
     "output_type": "execute_result"
    },
    {
     "data": {
      "image/png": "[encoded data removed]",
      "text/plain": [
       "<Figure size 432x288 with 1 Axes>"
      ]
     },
     "metadata": {
      "needs_background": "light"
     },
     "output_type": "display_data"
    }
   ],
   "source": [
    "sns.distplot(dataFrame['funded'])"
   ]
  },
  {
   "cell_type": "code",
   "execution_count": 156,
   "metadata": {},
   "outputs": [
    {
     "name": "stdout",
     "output_type": "stream",
     "text": [
      "41018\n",
      "46949\n"
     ]
    }
   ],
   "source": [
    "print(len(dataFrame[dataFrame['funded'] == False]))\n",
    "print(len(dataFrame[dataFrame['funded'] == True]))"
   ]
  },
  {
   "cell_type": "markdown",
   "metadata": {},
   "source": [
    "***\n",
    "```\n",
    "\n",
    "List of COL's VARS which might not be relevant:\n",
    "\n",
    "3)blurb \n",
    "20)project_url\n",
    "21)reward_url \n",
    "16)usd_pledged \n",
    "\n",
    "```\n",
    "***"
   ]
  },
  {
   "cell_type": "markdown",
   "metadata": {},
   "source": [
    "***\n",
    "```\n",
    "\n",
    "Check if the dataFrame.usd_pledged != dataFrame.pledged or equal to be eliminated --> they are different \n",
    "\n",
    "```\n",
    "***"
   ]
  },
  {
   "cell_type": "code",
   "execution_count": 7,
   "metadata": {},
   "outputs": [
    {
     "name": "stdout",
     "output_type": "stream",
     "text": [
      "      project_id  backers_count  \\\n",
      "997    KS_000997              4   \n",
      "998    KS_000998              1   \n",
      "1005   KS_001005              4   \n",
      "1012   KS_001012              5   \n",
      "1022   KS_001022              1   \n",
      "...          ...            ...   \n",
      "99976  KS_099976            187   \n",
      "99981  KS_099981             97   \n",
      "99984  KS_099984            128   \n",
      "99990  KS_099990             59   \n",
      "99999  KS_099999            145   \n",
      "\n",
      "                                                   blurb category  \\\n",
      "997    \"SPLASH OUT THE SOUND PROJECT\"! We makes ceram...      art   \n",
      "998    Tell me about your taste and i will create a p...      art   \n",
      "1005   Series of artistic pieces in ceramics, inspire...      art   \n",
      "1012   A gorgeously illustrated, vintage inspired cal...      art   \n",
      "1022   we are creating a ceramics studio within our s...      art   \n",
      "...                                                  ...      ...   \n",
      "99976  Love comedy? Get involved in creating a dedica...  theater   \n",
      "99981  We're an affordable theatre and rental space t...  theater   \n",
      "99984  Introducing The Post at 750! Join us in the cr...  theater   \n",
      "99990  Help the hosts of the infamous St. Michael sus...  theater   \n",
      "99999  Be part of building Cardiff's first pub theatr...  theater   \n",
      "\n",
      "       converted_pledged_amount country  created_at currency    deadline  \\\n",
      "997                         428      IT  1508774966      EUR  1511377371   \n",
      "998                           8      CA  1507558551      CAD  1515470891   \n",
      "1005                         73      MX  1496671505      MXN  1500058800   \n",
      "1012                        315      AU  1467278156      AUD  1471770761   \n",
      "1022                         11      FR  1464017964      EUR  1469224448   \n",
      "...                         ...     ...         ...      ...         ...   \n",
      "99976                     13502      DE  1435819972      EUR  1444291193   \n",
      "99981                      7443      CA  1415818568      CAD  1418580591   \n",
      "99984                     13202      CA  1426275202      CAD  1429152600   \n",
      "99990                      2215      GB  1409561898      GBP  1412335772   \n",
      "99999                     12639      GB  1398597170      GBP  1401465600   \n",
      "\n",
      "        fx_rate  ...  launched_at  \\\n",
      "997    1.245664  ...   1508781771   \n",
      "998    0.800599  ...   1512014891   \n",
      "1005   0.053931  ...   1498186224   \n",
      "1012   0.793186  ...   1469956361   \n",
      "1022   1.245664  ...   1466632448   \n",
      "...         ...  ...          ...   \n",
      "99976  1.237765  ...   1441699193   \n",
      "99981  0.795439  ...   1415988591   \n",
      "99984  0.795439  ...   1426815699   \n",
      "99990  1.389543  ...   1409743772   \n",
      "99999  1.389543  ...   1399032813   \n",
      "\n",
      "                                                    name   pledged  \\\n",
      "997     \"SPLASH OUT THE SOUND\" WHALES CERAMIC AMPLIFIERS    365.00   \n",
      "998                Pearson's Pottery Commissions Project     10.00   \n",
      "1005                                             REVOLVE   1310.00   \n",
      "1012                 Illustrated Ceramic Artist Calendar    414.00   \n",
      "1022         The Ceramics Studio at The Maison Salvadore     10.00   \n",
      "...                                                  ...       ...   \n",
      "99976  Berlin's first international, alternative come...  11998.01   \n",
      "99981               ONTARIO STREET THEATRE in Port Hope.   8620.00   \n",
      "99984                   Like This Post (The Post at 750)  16501.00   \n",
      "99990   St. Michael Boat Parties - Halloween and Beyond!   1373.24   \n",
      "99999       The Other Room – Cardiff’s First Pub Theatre   7555.00   \n",
      "\n",
      "       staff_pick   usd_pledged             location funded  subcategory  \\\n",
      "997         False    430.170889      Cagliari, Italy  False     ceramics   \n",
      "998         False      7.838981   Crossfield, Canada  False     ceramics   \n",
      "1005        False     71.878102  Mexico City, Mexico  False     ceramics   \n",
      "1012        False    314.691295         Brisbane, AU  False     ceramics   \n",
      "1022        False     11.335041   Le Vigeant, France  False     ceramics   \n",
      "...           ...           ...                  ...    ...          ...   \n",
      "99976        True  13381.734974      Berlin, Germany   True       spaces   \n",
      "99981       False   7615.009199    Port Hope, Canada   True       spaces   \n",
      "99984       False  12900.295339    Vancouver, Canada   True       spaces   \n",
      "99990       False   2277.788560           London, UK   True       spaces   \n",
      "99999       False  12753.401034          Cardiff, UK   True       spaces   \n",
      "\n",
      "                                             project_url  \\\n",
      "997    https://www.kickstarter.com/projects/700393837...   \n",
      "998    https://www.kickstarter.com/projects/118921752...   \n",
      "1005   https://www.kickstarter.com/projects/340987520...   \n",
      "1012   https://www.kickstarter.com/projects/131764891...   \n",
      "1022   https://www.kickstarter.com/projects/maisonsal...   \n",
      "...                                                  ...   \n",
      "99976  https://www.kickstarter.com/projects/noahtelso...   \n",
      "99981  https://www.kickstarter.com/projects/135914549...   \n",
      "99984  https://www.kickstarter.com/projects/193854085...   \n",
      "99990  https://www.kickstarter.com/projects/617004672...   \n",
      "99999  https://www.kickstarter.com/projects/159603433...   \n",
      "\n",
      "                                              reward_url  \n",
      "997    https://www.kickstarter.com/projects/700393837...  \n",
      "998    https://www.kickstarter.com/projects/118921752...  \n",
      "1005   https://www.kickstarter.com/projects/340987520...  \n",
      "1012   https://www.kickstarter.com/projects/131764891...  \n",
      "1022   https://www.kickstarter.com/projects/maisonsal...  \n",
      "...                                                  ...  \n",
      "99976  https://www.kickstarter.com/projects/noahtelso...  \n",
      "99981  https://www.kickstarter.com/projects/135914549...  \n",
      "99984  https://www.kickstarter.com/projects/193854085...  \n",
      "99990  https://www.kickstarter.com/projects/617004672...  \n",
      "99999  https://www.kickstarter.com/projects/159603433...  \n",
      "\n",
      "[16895 rows x 21 columns]\n"
     ]
    }
   ],
   "source": [
    "gains = dataFrame[dataFrame.usd_pledged != dataFrame.pledged]\n",
    "print(gains)"
   ]
  },
  {
   "cell_type": "markdown",
   "metadata": {},
   "source": [
    "***\n",
    "```\n",
    "\n",
    "We are going to eliminate these 3 variables as they are not usefull for the analysis \n",
    "3)blurb \n",
    "20)project_url\n",
    "21)reward_url \n",
    "\n",
    "\n",
    "```\n",
    "***"
   ]
  },
  {
   "cell_type": "code",
   "execution_count": 8,
   "metadata": {},
   "outputs": [
    {
     "data": {
      "text/html": [
       "<div>\n",
       "<style scoped>\n",
       "    .dataframe tbody tr th:only-of-type {\n",
       "        vertical-align: middle;\n",
       "    }\n",
       "\n",
       "    .dataframe tbody tr th {\n",
       "        vertical-align: top;\n",
       "    }\n",
       "\n",
       "    .dataframe thead th {\n",
       "        text-align: right;\n",
       "    }\n",
       "</style>\n",
       "<table border=\"1\" class=\"dataframe\">\n",
       "  <thead>\n",
       "    <tr style=\"text-align: right;\">\n",
       "      <th></th>\n",
       "      <th>project_id</th>\n",
       "      <th>backers_count</th>\n",
       "      <th>category</th>\n",
       "      <th>converted_pledged_amount</th>\n",
       "      <th>country</th>\n",
       "      <th>created_at</th>\n",
       "      <th>currency</th>\n",
       "      <th>deadline</th>\n",
       "      <th>fx_rate</th>\n",
       "      <th>goal</th>\n",
       "      <th>launched_at</th>\n",
       "      <th>name</th>\n",
       "      <th>pledged</th>\n",
       "      <th>staff_pick</th>\n",
       "      <th>usd_pledged</th>\n",
       "      <th>location</th>\n",
       "      <th>funded</th>\n",
       "      <th>subcategory</th>\n",
       "    </tr>\n",
       "  </thead>\n",
       "  <tbody>\n",
       "    <tr>\n",
       "      <th>0</th>\n",
       "      <td>KS_000000</td>\n",
       "      <td>80</td>\n",
       "      <td>art</td>\n",
       "      <td>3596</td>\n",
       "      <td>US</td>\n",
       "      <td>1325980505</td>\n",
       "      <td>USD</td>\n",
       "      <td>1334866560</td>\n",
       "      <td>1.000000</td>\n",
       "      <td>2800.0</td>\n",
       "      <td>1332969260</td>\n",
       "      <td>Elsewhere Studios artist-in-residency program!</td>\n",
       "      <td>3596.00</td>\n",
       "      <td>False</td>\n",
       "      <td>3596.000000</td>\n",
       "      <td>Paonia, CO</td>\n",
       "      <td>True</td>\n",
       "      <td>mixed media</td>\n",
       "    </tr>\n",
       "    <tr>\n",
       "      <th>1</th>\n",
       "      <td>KS_000001</td>\n",
       "      <td>82</td>\n",
       "      <td>art</td>\n",
       "      <td>4586</td>\n",
       "      <td>US</td>\n",
       "      <td>1330926084</td>\n",
       "      <td>USD</td>\n",
       "      <td>1336440145</td>\n",
       "      <td>1.000000</td>\n",
       "      <td>4500.0</td>\n",
       "      <td>1332984145</td>\n",
       "      <td>1000 Artists: Presidential Inauguration 2013</td>\n",
       "      <td>4586.00</td>\n",
       "      <td>False</td>\n",
       "      <td>4586.000000</td>\n",
       "      <td>Washington, DC</td>\n",
       "      <td>True</td>\n",
       "      <td>public art</td>\n",
       "    </tr>\n",
       "    <tr>\n",
       "      <th>2</th>\n",
       "      <td>KS_000002</td>\n",
       "      <td>21</td>\n",
       "      <td>art</td>\n",
       "      <td>5217</td>\n",
       "      <td>US</td>\n",
       "      <td>1332382894</td>\n",
       "      <td>USD</td>\n",
       "      <td>1338175739</td>\n",
       "      <td>1.000000</td>\n",
       "      <td>5000.0</td>\n",
       "      <td>1332991739</td>\n",
       "      <td>MyPhoneHenge</td>\n",
       "      <td>5217.00</td>\n",
       "      <td>False</td>\n",
       "      <td>5217.000000</td>\n",
       "      <td>Frisco, TX</td>\n",
       "      <td>True</td>\n",
       "      <td>sculpture</td>\n",
       "    </tr>\n",
       "    <tr>\n",
       "      <th>3</th>\n",
       "      <td>KS_000003</td>\n",
       "      <td>37</td>\n",
       "      <td>art</td>\n",
       "      <td>7160</td>\n",
       "      <td>GB</td>\n",
       "      <td>1332342451</td>\n",
       "      <td>USD</td>\n",
       "      <td>1334806096</td>\n",
       "      <td>1.000000</td>\n",
       "      <td>6500.0</td>\n",
       "      <td>1332991696</td>\n",
       "      <td>Walk-Through</td>\n",
       "      <td>7160.00</td>\n",
       "      <td>False</td>\n",
       "      <td>7160.000000</td>\n",
       "      <td>Glasgow, UK</td>\n",
       "      <td>True</td>\n",
       "      <td>art</td>\n",
       "    </tr>\n",
       "    <tr>\n",
       "      <th>4</th>\n",
       "      <td>KS_000004</td>\n",
       "      <td>153</td>\n",
       "      <td>art</td>\n",
       "      <td>15445</td>\n",
       "      <td>US</td>\n",
       "      <td>1328562617</td>\n",
       "      <td>USD</td>\n",
       "      <td>1335584240</td>\n",
       "      <td>1.000000</td>\n",
       "      <td>15000.0</td>\n",
       "      <td>1332992240</td>\n",
       "      <td>A kitchen for Habitable Spaces</td>\n",
       "      <td>15445.00</td>\n",
       "      <td>False</td>\n",
       "      <td>15445.000000</td>\n",
       "      <td>Kingsbury, TX</td>\n",
       "      <td>True</td>\n",
       "      <td>public art</td>\n",
       "    </tr>\n",
       "    <tr>\n",
       "      <th>...</th>\n",
       "      <td>...</td>\n",
       "      <td>...</td>\n",
       "      <td>...</td>\n",
       "      <td>...</td>\n",
       "      <td>...</td>\n",
       "      <td>...</td>\n",
       "      <td>...</td>\n",
       "      <td>...</td>\n",
       "      <td>...</td>\n",
       "      <td>...</td>\n",
       "      <td>...</td>\n",
       "      <td>...</td>\n",
       "      <td>...</td>\n",
       "      <td>...</td>\n",
       "      <td>...</td>\n",
       "      <td>...</td>\n",
       "      <td>...</td>\n",
       "      <td>...</td>\n",
       "    </tr>\n",
       "    <tr>\n",
       "      <th>99995</th>\n",
       "      <td>KS_099995</td>\n",
       "      <td>104</td>\n",
       "      <td>theater</td>\n",
       "      <td>7595</td>\n",
       "      <td>US</td>\n",
       "      <td>1348677893</td>\n",
       "      <td>USD</td>\n",
       "      <td>1356552252</td>\n",
       "      <td>1.000000</td>\n",
       "      <td>7000.0</td>\n",
       "      <td>1353960252</td>\n",
       "      <td>Help Fund the \"Back Room\" Arts Space at Jimmy'...</td>\n",
       "      <td>7595.43</td>\n",
       "      <td>False</td>\n",
       "      <td>7595.430000</td>\n",
       "      <td>New York, NY</td>\n",
       "      <td>True</td>\n",
       "      <td>spaces</td>\n",
       "    </tr>\n",
       "    <tr>\n",
       "      <th>99996</th>\n",
       "      <td>KS_099996</td>\n",
       "      <td>307</td>\n",
       "      <td>theater</td>\n",
       "      <td>27196</td>\n",
       "      <td>US</td>\n",
       "      <td>1364939099</td>\n",
       "      <td>USD</td>\n",
       "      <td>1367674009</td>\n",
       "      <td>1.000000</td>\n",
       "      <td>25000.0</td>\n",
       "      <td>1365082009</td>\n",
       "      <td>The Coalition Theater</td>\n",
       "      <td>27196.71</td>\n",
       "      <td>False</td>\n",
       "      <td>27196.710000</td>\n",
       "      <td>Richmond, VA</td>\n",
       "      <td>True</td>\n",
       "      <td>spaces</td>\n",
       "    </tr>\n",
       "    <tr>\n",
       "      <th>99997</th>\n",
       "      <td>KS_099997</td>\n",
       "      <td>143</td>\n",
       "      <td>theater</td>\n",
       "      <td>7226</td>\n",
       "      <td>US</td>\n",
       "      <td>1366078694</td>\n",
       "      <td>USD</td>\n",
       "      <td>1373738400</td>\n",
       "      <td>1.000000</td>\n",
       "      <td>5500.0</td>\n",
       "      <td>1370568560</td>\n",
       "      <td>The Voix De Ville! : A Pop-up Theater and Cabaret</td>\n",
       "      <td>7226.00</td>\n",
       "      <td>True</td>\n",
       "      <td>7226.000000</td>\n",
       "      <td>Cleveland, OH</td>\n",
       "      <td>True</td>\n",
       "      <td>spaces</td>\n",
       "    </tr>\n",
       "    <tr>\n",
       "      <th>99998</th>\n",
       "      <td>KS_099998</td>\n",
       "      <td>329</td>\n",
       "      <td>theater</td>\n",
       "      <td>31683</td>\n",
       "      <td>US</td>\n",
       "      <td>1372177000</td>\n",
       "      <td>USD</td>\n",
       "      <td>1376654340</td>\n",
       "      <td>1.000000</td>\n",
       "      <td>25000.0</td>\n",
       "      <td>1373568644</td>\n",
       "      <td>Save the Studio!</td>\n",
       "      <td>31683.00</td>\n",
       "      <td>False</td>\n",
       "      <td>31683.000000</td>\n",
       "      <td>Arlington, VA</td>\n",
       "      <td>True</td>\n",
       "      <td>spaces</td>\n",
       "    </tr>\n",
       "    <tr>\n",
       "      <th>99999</th>\n",
       "      <td>KS_099999</td>\n",
       "      <td>145</td>\n",
       "      <td>theater</td>\n",
       "      <td>12639</td>\n",
       "      <td>GB</td>\n",
       "      <td>1398597170</td>\n",
       "      <td>GBP</td>\n",
       "      <td>1401465600</td>\n",
       "      <td>1.389543</td>\n",
       "      <td>2500.0</td>\n",
       "      <td>1399032813</td>\n",
       "      <td>The Other Room – Cardiff’s First Pub Theatre</td>\n",
       "      <td>7555.00</td>\n",
       "      <td>False</td>\n",
       "      <td>12753.401034</td>\n",
       "      <td>Cardiff, UK</td>\n",
       "      <td>True</td>\n",
       "      <td>spaces</td>\n",
       "    </tr>\n",
       "  </tbody>\n",
       "</table>\n",
       "<p>100000 rows × 18 columns</p>\n",
       "</div>"
      ],
      "text/plain": [
       "      project_id  backers_count category  converted_pledged_amount country  \\\n",
       "0      KS_000000             80      art                      3596      US   \n",
       "1      KS_000001             82      art                      4586      US   \n",
       "2      KS_000002             21      art                      5217      US   \n",
       "3      KS_000003             37      art                      7160      GB   \n",
       "4      KS_000004            153      art                     15445      US   \n",
       "...          ...            ...      ...                       ...     ...   \n",
       "99995  KS_099995            104  theater                      7595      US   \n",
       "99996  KS_099996            307  theater                     27196      US   \n",
       "99997  KS_099997            143  theater                      7226      US   \n",
       "99998  KS_099998            329  theater                     31683      US   \n",
       "99999  KS_099999            145  theater                     12639      GB   \n",
       "\n",
       "       created_at currency    deadline   fx_rate     goal  launched_at  \\\n",
       "0      1325980505      USD  1334866560  1.000000   2800.0   1332969260   \n",
       "1      1330926084      USD  1336440145  1.000000   4500.0   1332984145   \n",
       "2      1332382894      USD  1338175739  1.000000   5000.0   1332991739   \n",
       "3      1332342451      USD  1334806096  1.000000   6500.0   1332991696   \n",
       "4      1328562617      USD  1335584240  1.000000  15000.0   1332992240   \n",
       "...           ...      ...         ...       ...      ...          ...   \n",
       "99995  1348677893      USD  1356552252  1.000000   7000.0   1353960252   \n",
       "99996  1364939099      USD  1367674009  1.000000  25000.0   1365082009   \n",
       "99997  1366078694      USD  1373738400  1.000000   5500.0   1370568560   \n",
       "99998  1372177000      USD  1376654340  1.000000  25000.0   1373568644   \n",
       "99999  1398597170      GBP  1401465600  1.389543   2500.0   1399032813   \n",
       "\n",
       "                                                    name   pledged  \\\n",
       "0         Elsewhere Studios artist-in-residency program!   3596.00   \n",
       "1           1000 Artists: Presidential Inauguration 2013   4586.00   \n",
       "2                                           MyPhoneHenge   5217.00   \n",
       "3                                           Walk-Through   7160.00   \n",
       "4                         A kitchen for Habitable Spaces  15445.00   \n",
       "...                                                  ...       ...   \n",
       "99995  Help Fund the \"Back Room\" Arts Space at Jimmy'...   7595.43   \n",
       "99996                              The Coalition Theater  27196.71   \n",
       "99997  The Voix De Ville! : A Pop-up Theater and Cabaret   7226.00   \n",
       "99998                                   Save the Studio!  31683.00   \n",
       "99999       The Other Room – Cardiff’s First Pub Theatre   7555.00   \n",
       "\n",
       "       staff_pick   usd_pledged        location  funded  subcategory  \n",
       "0           False   3596.000000      Paonia, CO    True  mixed media  \n",
       "1           False   4586.000000  Washington, DC    True   public art  \n",
       "2           False   5217.000000      Frisco, TX    True    sculpture  \n",
       "3           False   7160.000000     Glasgow, UK    True          art  \n",
       "4           False  15445.000000   Kingsbury, TX    True   public art  \n",
       "...           ...           ...             ...     ...          ...  \n",
       "99995       False   7595.430000    New York, NY    True       spaces  \n",
       "99996       False  27196.710000    Richmond, VA    True       spaces  \n",
       "99997        True   7226.000000   Cleveland, OH    True       spaces  \n",
       "99998       False  31683.000000   Arlington, VA    True       spaces  \n",
       "99999       False  12753.401034     Cardiff, UK    True       spaces  \n",
       "\n",
       "[100000 rows x 18 columns]"
      ]
     },
     "execution_count": 8,
     "metadata": {},
     "output_type": "execute_result"
    }
   ],
   "source": [
    "dataFrame.drop(columns=['blurb','project_url', 'reward_url'])"
   ]
  },
  {
   "cell_type": "code",
   "execution_count": 9,
   "metadata": {},
   "outputs": [
    {
     "name": "stdout",
     "output_type": "stream",
     "text": [
      "Empty DataFrame\n",
      "Columns: [project_id, backers_count, blurb, category, converted_pledged_amount, country, created_at, currency, deadline, fx_rate, goal, launched_at, name, pledged, staff_pick, usd_pledged, location, funded, subcategory, project_url, reward_url]\n",
      "Index: []\n",
      "\n",
      "[0 rows x 21 columns]\n"
     ]
    }
   ],
   "source": [
    "duplicateRows = dataFrame[dataFrame.duplicated()]\n",
    "print(duplicateRows)"
   ]
  },
  {
   "cell_type": "markdown",
   "metadata": {},
   "source": [
    "There are no duplicate rows."
   ]
  },
  {
   "cell_type": "code",
   "execution_count": 10,
   "metadata": {
    "scrolled": true
   },
   "outputs": [
    {
     "data": {
      "text/plain": [
       "project_id                  0\n",
       "backers_count               0\n",
       "blurb                       2\n",
       "category                    0\n",
       "converted_pledged_amount    0\n",
       "country                     3\n",
       "created_at                  0\n",
       "currency                    0\n",
       "deadline                    0\n",
       "fx_rate                     0\n",
       "goal                        0\n",
       "launched_at                 0\n",
       "name                        1\n",
       "pledged                     0\n",
       "staff_pick                  0\n",
       "usd_pledged                 0\n",
       "location                    0\n",
       "funded                      0\n",
       "subcategory                 0\n",
       "project_url                 0\n",
       "reward_url                  0\n",
       "dtype: int64"
      ]
     },
     "execution_count": 10,
     "metadata": {},
     "output_type": "execute_result"
    }
   ],
   "source": [
    "(dataFrame.isnull()).sum()"
   ]
  },
  {
   "cell_type": "code",
   "execution_count": 11,
   "metadata": {},
   "outputs": [],
   "source": [
    "dataFrame = dataFrame.dropna(how='any',axis=0)"
   ]
  },
  {
   "cell_type": "code",
   "execution_count": 12,
   "metadata": {},
   "outputs": [
    {
     "data": {
      "text/plain": [
       "project_id                  0\n",
       "backers_count               0\n",
       "blurb                       0\n",
       "category                    0\n",
       "converted_pledged_amount    0\n",
       "country                     0\n",
       "created_at                  0\n",
       "currency                    0\n",
       "deadline                    0\n",
       "fx_rate                     0\n",
       "goal                        0\n",
       "launched_at                 0\n",
       "name                        0\n",
       "pledged                     0\n",
       "staff_pick                  0\n",
       "usd_pledged                 0\n",
       "location                    0\n",
       "funded                      0\n",
       "subcategory                 0\n",
       "project_url                 0\n",
       "reward_url                  0\n",
       "dtype: int64"
      ]
     },
     "execution_count": 12,
     "metadata": {},
     "output_type": "execute_result"
    }
   ],
   "source": [
    "(dataFrame.isnull()).sum()"
   ]
  },
  {
   "cell_type": "markdown",
   "metadata": {},
   "source": [
    "We removed all the rows with null v alues"
   ]
  },
  {
   "cell_type": "code",
   "execution_count": 13,
   "metadata": {},
   "outputs": [
    {
     "data": {
      "text/plain": [
       "<matplotlib.axes._subplots.AxesSubplot at 0x7f88501b4f10>"
      ]
     },
     "execution_count": 13,
     "metadata": {},
     "output_type": "execute_result"
    },
    {
     "data": {
      "image/png": "[encoded data removed]",
      "text/plain": [
       "<Figure size 1080x1080 with 2 Axes>"
      ]
     },
     "metadata": {
      "needs_background": "light"
     },
     "output_type": "display_data"
    }
   ],
   "source": [
    "corrmat = dataFrame.corr()\n",
    "fig, ax = plt.subplots(figsize=(15,15)) \n",
    "sns.heatmap(corrmat, square= True, annot = True, linewidths=.1, ax=ax)"
   ]
  },
  {
   "cell_type": "markdown",
   "metadata": {},
   "source": [
    "The 9 features which most strongly correlate with <i>funded</i>"
   ]
  },
  {
   "cell_type": "code",
   "execution_count": 14,
   "metadata": {},
   "outputs": [
    {
     "data": {
      "text/plain": [
       "<matplotlib.axes._subplots.AxesSubplot at 0x7f8854e4d990>"
      ]
     },
     "execution_count": 14,
     "metadata": {},
     "output_type": "execute_result"
    },
    {
     "data": {
      "image/png": "[encoded data removed]",
      "text/plain": [
       "<Figure size 432x288 with 2 Axes>"
      ]
     },
     "metadata": {
      "needs_background": "light"
     },
     "output_type": "display_data"
    }
   ],
   "source": [
    "corrmat = dataFrame.corr()\n",
    "cols = corrmat.nlargest(10, 'funded').index\n",
    "sns.heatmap(corrmat.loc[cols, cols], square= True, annot = True)"
   ]
  },
  {
   "cell_type": "markdown",
   "metadata": {},
   "source": [
    "The variable which correlates the most with funded is staff_pick. It is followed by backers_count and all the money-related variables. The least correlated ones are the time-frame-related ones, like launched_at and deadline\n",
    "\n",
    "*(**Comment: maybe we should state that none of the features correlates much with 'funded'?**)*"
   ]
  },
  {
   "cell_type": "markdown",
   "metadata": {},
   "source": [
    "Check if all the values of the most relevant columns are consistent with each other"
   ]
  },
  {
   "cell_type": "code",
   "execution_count": 15,
   "metadata": {},
   "outputs": [
    {
     "data": {
      "text/plain": [
       "True"
      ]
     },
     "execution_count": 15,
     "metadata": {},
     "output_type": "execute_result"
    }
   ],
   "source": [
    "np.issubdtype(dataFrame['usd_pledged'].dtype, np.number)"
   ]
  },
  {
   "cell_type": "code",
   "execution_count": 16,
   "metadata": {},
   "outputs": [
    {
     "data": {
      "text/plain": [
       "True"
      ]
     },
     "execution_count": 16,
     "metadata": {},
     "output_type": "execute_result"
    }
   ],
   "source": [
    "np.issubdtype(dataFrame['backers_count'].dtype, np.number)"
   ]
  },
  {
   "cell_type": "code",
   "execution_count": 17,
   "metadata": {},
   "outputs": [
    {
     "data": {
      "text/plain": [
       "True"
      ]
     },
     "execution_count": 17,
     "metadata": {},
     "output_type": "execute_result"
    }
   ],
   "source": [
    "np.issubdtype(dataFrame['staff_pick'].dtype, np.bool)"
   ]
  },
  {
   "cell_type": "code",
   "execution_count": 18,
   "metadata": {},
   "outputs": [
    {
     "data": {
      "text/plain": [
       "True"
      ]
     },
     "execution_count": 18,
     "metadata": {},
     "output_type": "execute_result"
    }
   ],
   "source": [
    "np.issubdtype(dataFrame['funded'].dtype, np.bool)"
   ]
  },
  {
   "cell_type": "markdown",
   "metadata": {},
   "source": [
    "There are no typos"
   ]
  },
  {
   "cell_type": "code",
   "execution_count": 19,
   "metadata": {},
   "outputs": [
    {
     "data": {
      "text/plain": [
       "count    9.999500e+04\n",
       "mean     1.241154e+04\n",
       "std      1.005570e+05\n",
       "min      0.000000e+00\n",
       "25%      1.250000e+02\n",
       "50%      1.650000e+03\n",
       "75%      6.271500e+03\n",
       "max      1.026684e+07\n",
       "Name: converted_pledged_amount, dtype: float64"
      ]
     },
     "execution_count": 19,
     "metadata": {},
     "output_type": "execute_result"
    }
   ],
   "source": [
    "dataFrame.converted_pledged_amount.describe()"
   ]
  },
  {
   "cell_type": "code",
   "execution_count": 20,
   "metadata": {
    "scrolled": true
   },
   "outputs": [
    {
     "data": {
      "image/png": "[encoded data removed]",
      "text/plain": [
       "<Figure size 432x288 with 1 Axes>"
      ]
     },
     "metadata": {
      "needs_background": "light"
     },
     "output_type": "display_data"
    }
   ],
   "source": [
    "ax = dataFrame.plot.scatter(x = \"pledged\", y = \"usd_pledged\")"
   ]
  },
  {
   "cell_type": "markdown",
   "metadata": {},
   "source": [
    "Boxplot representation of the funded amount for each category"
   ]
  },
  {
   "cell_type": "code",
   "execution_count": 21,
   "metadata": {},
   "outputs": [
    {
     "data": {
      "image/png": "[encoded data removed]",
      "text/plain": [
       "<Figure size 432x288 with 1 Axes>"
      ]
     },
     "metadata": {
      "needs_background": "light"
     },
     "output_type": "display_data"
    }
   ],
   "source": [
    "ax = dataFrame.plot.scatter(x = \"backers_count\", y = \"converted_pledged_amount\")"
   ]
  },
  {
   "cell_type": "code",
   "execution_count": 22,
   "metadata": {},
   "outputs": [
    {
     "data": {
      "image/png": "[encoded data removed]",
      "text/plain": [
       "<Figure size 432x288 with 1 Axes>"
      ]
     },
     "metadata": {
      "needs_background": "light"
     },
     "output_type": "display_data"
    }
   ],
   "source": [
    "ax = dataFrame.plot.scatter(x = \"backers_count\", y = \"usd_pledged\")"
   ]
  },
  {
   "cell_type": "markdown",
   "metadata": {},
   "source": [
    "We used this call to see the number of total projects that are left after data cleaning"
   ]
  },
  {
   "cell_type": "code",
   "execution_count": 23,
   "metadata": {},
   "outputs": [
    {
     "data": {
      "text/plain": [
       "count    9.999500e+04\n",
       "mean     1.241154e+04\n",
       "std      1.005570e+05\n",
       "min      0.000000e+00\n",
       "25%      1.250000e+02\n",
       "50%      1.650000e+03\n",
       "75%      6.271500e+03\n",
       "max      1.026684e+07\n",
       "Name: converted_pledged_amount, dtype: float64"
      ]
     },
     "execution_count": 23,
     "metadata": {},
     "output_type": "execute_result"
    }
   ],
   "source": [
    "dataFrame.converted_pledged_amount.describe()"
   ]
  },
  {
   "cell_type": "markdown",
   "metadata": {},
   "source": [
    "Boxplot that represents the funded amount for each category"
   ]
  },
  {
   "cell_type": "code",
   "execution_count": 24,
   "metadata": {},
   "outputs": [
    {
     "data": {
      "text/plain": [
       "<matplotlib.axes._subplots.AxesSubplot at 0x7f88508fb610>"
      ]
     },
     "execution_count": 24,
     "metadata": {},
     "output_type": "execute_result"
    },
    {
     "data": {
      "image/png": "[encoded data removed]",
      "text/plain": [
       "<Figure size 432x288 with 1 Axes>"
      ]
     },
     "metadata": {
      "needs_background": "light"
     },
     "output_type": "display_data"
    }
   ],
   "source": [
    "usd_pledged = dataFrame['converted_pledged_amount']\n",
    "category = dataFrame['category']\n",
    "sns.boxplot(x=usd_pledged, y=category)"
   ]
  },
  {
   "cell_type": "markdown",
   "metadata": {},
   "source": [
    "Check the funded amount for each category"
   ]
  },
  {
   "cell_type": "markdown",
   "metadata": {},
   "source": [
    "This boxplot is used in order to see the values that are above the upper bound of the currency column"
   ]
  },
  {
   "cell_type": "code",
   "execution_count": 25,
   "metadata": {},
   "outputs": [
    {
     "data": {
      "text/plain": [
       "<matplotlib.axes._subplots.AxesSubplot at 0x7f8854390a10>"
      ]
     },
     "execution_count": 25,
     "metadata": {},
     "output_type": "execute_result"
    },
    {
     "data": {
      "image/png": "[encoded data removed]",
      "text/plain": [
       "<Figure size 432x288 with 1 Axes>"
      ]
     },
     "metadata": {
      "needs_background": "light"
     },
     "output_type": "display_data"
    }
   ],
   "source": [
    "sns.boxplot(x=dataFrame.converted_pledged_amount, y = dataFrame.currency)"
   ]
  },
  {
   "cell_type": "markdown",
   "metadata": {},
   "source": [
    " Caps outliers to closest existing value within threshold (IQR).\n",
    " Identifying the upper bound for most relevant quantitative variables, and dropping the outliers accordingly"
   ]
  },
  {
   "cell_type": "code",
   "execution_count": 26,
   "metadata": {
    "scrolled": true
   },
   "outputs": [
    {
     "name": "stdout",
     "output_type": "stream",
     "text": [
      "Capping outliers by the IQR method:\n",
      "   IQR threshold: 1.5\n",
      "   Lower bound: -9094.75\n",
      "   Upper bound: 15491.25\n",
      "\n"
     ]
    },
    {
     "data": {
      "text/plain": [
       "0         3596\n",
       "1         4586\n",
       "2         5217\n",
       "3         7160\n",
       "4        15445\n",
       "         ...  \n",
       "99995     7595\n",
       "99996    15489\n",
       "99997     7226\n",
       "99998    15489\n",
       "99999    12639\n",
       "Name: converted_pledged_amount, Length: 99995, dtype: int64"
      ]
     },
     "execution_count": 26,
     "metadata": {},
     "output_type": "execute_result"
    }
   ],
   "source": [
    "def cap_outliers(series, iqr_threshold=1.5, verbose=False):\n",
    "    '''Caps outliers to closest existing value within threshold (IQR).'''\n",
    "    Q1 = series.quantile(0.25)\n",
    "    Q3 = series.quantile(0.75)\n",
    "    IQR = Q3 - Q1\n",
    "\n",
    "    lbound = Q1 - iqr_threshold * IQR\n",
    "    ubound = Q3 + iqr_threshold * IQR\n",
    "\n",
    "    outliers = (series < lbound) | (series > ubound)\n",
    "\n",
    "    series = series.copy()\n",
    "    series.loc[series < lbound] = series.loc[~outliers].min()\n",
    "    series.loc[series > ubound] = series.loc[~outliers].max()\n",
    "\n",
    "    # For comparison purposes.\n",
    "    if verbose:\n",
    "            print('\\n'.join(\n",
    "                ['Capping outliers by the IQR method:',\n",
    "                 f'   IQR threshold: {iqr_threshold}',\n",
    "                 f'   Lower bound: {lbound}',\n",
    "                 f'   Upper bound: {ubound}\\n']))\n",
    "\n",
    "    return series\n",
    "\n",
    "cap_outliers(dataFrame['converted_pledged_amount'], verbose=True)"
   ]
  },
  {
   "cell_type": "markdown",
   "metadata": {},
   "source": [
    "Drop some outliers of the converted_pledged_amount variable based on its Upper-bound values"
   ]
  },
  {
   "cell_type": "code",
   "execution_count": 27,
   "metadata": {},
   "outputs": [],
   "source": [
    "converted_pledged_amount_to_drop = dataFrame.index[dataFrame.converted_pledged_amount > 15491.25]"
   ]
  },
  {
   "cell_type": "code",
   "execution_count": 28,
   "metadata": {},
   "outputs": [
    {
     "data": {
      "text/plain": [
       "count    87967.000000\n",
       "mean      2687.693965\n",
       "std       3537.089565\n",
       "min          0.000000\n",
       "25%         75.000000\n",
       "50%       1099.000000\n",
       "75%       4004.000000\n",
       "max      15489.000000\n",
       "Name: converted_pledged_amount, dtype: float64"
      ]
     },
     "execution_count": 28,
     "metadata": {},
     "output_type": "execute_result"
    }
   ],
   "source": [
    "dataFrame.drop(converted_pledged_amount_to_drop, inplace=True)\n",
    "dataFrame.converted_pledged_amount.describe()"
   ]
  },
  {
   "cell_type": "markdown",
   "metadata": {},
   "source": [
    "Derive a new column called funded_amount_per_backer as the first additional feature, and check if it was funded, if thats the case divide them, else assign 0."
   ]
  },
  {
   "cell_type": "code",
   "execution_count": 29,
   "metadata": {},
   "outputs": [
    {
     "data": {
      "text/html": [
       "<div>\n",
       "<style scoped>\n",
       "    .dataframe tbody tr th:only-of-type {\n",
       "        vertical-align: middle;\n",
       "    }\n",
       "\n",
       "    .dataframe tbody tr th {\n",
       "        vertical-align: top;\n",
       "    }\n",
       "\n",
       "    .dataframe thead th {\n",
       "        text-align: right;\n",
       "    }\n",
       "</style>\n",
       "<table border=\"1\" class=\"dataframe\">\n",
       "  <thead>\n",
       "    <tr style=\"text-align: right;\">\n",
       "      <th></th>\n",
       "      <th>project_id</th>\n",
       "      <th>backers_count</th>\n",
       "      <th>blurb</th>\n",
       "      <th>category</th>\n",
       "      <th>converted_pledged_amount</th>\n",
       "      <th>country</th>\n",
       "      <th>created_at</th>\n",
       "      <th>currency</th>\n",
       "      <th>deadline</th>\n",
       "      <th>fx_rate</th>\n",
       "      <th>...</th>\n",
       "      <th>name</th>\n",
       "      <th>pledged</th>\n",
       "      <th>staff_pick</th>\n",
       "      <th>usd_pledged</th>\n",
       "      <th>location</th>\n",
       "      <th>funded</th>\n",
       "      <th>subcategory</th>\n",
       "      <th>project_url</th>\n",
       "      <th>reward_url</th>\n",
       "      <th>funded_amount_per_backer</th>\n",
       "    </tr>\n",
       "  </thead>\n",
       "  <tbody>\n",
       "    <tr>\n",
       "      <th>0</th>\n",
       "      <td>KS_000000</td>\n",
       "      <td>80</td>\n",
       "      <td>I will be an artist-in-residence at Elsewhere ...</td>\n",
       "      <td>art</td>\n",
       "      <td>3596</td>\n",
       "      <td>US</td>\n",
       "      <td>1325980505</td>\n",
       "      <td>USD</td>\n",
       "      <td>1334866560</td>\n",
       "      <td>1.0</td>\n",
       "      <td>...</td>\n",
       "      <td>Elsewhere Studios artist-in-residency program!</td>\n",
       "      <td>3596.0</td>\n",
       "      <td>False</td>\n",
       "      <td>3596.0</td>\n",
       "      <td>Paonia, CO</td>\n",
       "      <td>True</td>\n",
       "      <td>mixed media</td>\n",
       "      <td>https://www.kickstarter.com/projects/hilaryeme...</td>\n",
       "      <td>https://www.kickstarter.com/projects/hilaryeme...</td>\n",
       "      <td>44.95</td>\n",
       "    </tr>\n",
       "    <tr>\n",
       "      <th>1</th>\n",
       "      <td>KS_000001</td>\n",
       "      <td>82</td>\n",
       "      <td>1000 Artists is a public art-making installati...</td>\n",
       "      <td>art</td>\n",
       "      <td>4586</td>\n",
       "      <td>US</td>\n",
       "      <td>1330926084</td>\n",
       "      <td>USD</td>\n",
       "      <td>1336440145</td>\n",
       "      <td>1.0</td>\n",
       "      <td>...</td>\n",
       "      <td>1000 Artists: Presidential Inauguration 2013</td>\n",
       "      <td>4586.0</td>\n",
       "      <td>False</td>\n",
       "      <td>4586.0</td>\n",
       "      <td>Washington, DC</td>\n",
       "      <td>True</td>\n",
       "      <td>public art</td>\n",
       "      <td>https://www.kickstarter.com/projects/17146650/...</td>\n",
       "      <td>https://www.kickstarter.com/projects/17146650/...</td>\n",
       "      <td>55.93</td>\n",
       "    </tr>\n",
       "    <tr>\n",
       "      <th>2</th>\n",
       "      <td>KS_000002</td>\n",
       "      <td>21</td>\n",
       "      <td>The Sequel to ‘My Favorite Machine”, \"MyPhoneH...</td>\n",
       "      <td>art</td>\n",
       "      <td>5217</td>\n",
       "      <td>US</td>\n",
       "      <td>1332382894</td>\n",
       "      <td>USD</td>\n",
       "      <td>1338175739</td>\n",
       "      <td>1.0</td>\n",
       "      <td>...</td>\n",
       "      <td>MyPhoneHenge</td>\n",
       "      <td>5217.0</td>\n",
       "      <td>False</td>\n",
       "      <td>5217.0</td>\n",
       "      <td>Frisco, TX</td>\n",
       "      <td>True</td>\n",
       "      <td>sculpture</td>\n",
       "      <td>https://www.kickstarter.com/projects/belveal/m...</td>\n",
       "      <td>https://www.kickstarter.com/projects/belveal/m...</td>\n",
       "      <td>248.43</td>\n",
       "    </tr>\n",
       "  </tbody>\n",
       "</table>\n",
       "<p>3 rows × 22 columns</p>\n",
       "</div>"
      ],
      "text/plain": [
       "  project_id  backers_count  \\\n",
       "0  KS_000000             80   \n",
       "1  KS_000001             82   \n",
       "2  KS_000002             21   \n",
       "\n",
       "                                               blurb category  \\\n",
       "0  I will be an artist-in-residence at Elsewhere ...      art   \n",
       "1  1000 Artists is a public art-making installati...      art   \n",
       "2  The Sequel to ‘My Favorite Machine”, \"MyPhoneH...      art   \n",
       "\n",
       "   converted_pledged_amount country  created_at currency    deadline  fx_rate  \\\n",
       "0                      3596      US  1325980505      USD  1334866560      1.0   \n",
       "1                      4586      US  1330926084      USD  1336440145      1.0   \n",
       "2                      5217      US  1332382894      USD  1338175739      1.0   \n",
       "\n",
       "   ...                                            name  pledged staff_pick  \\\n",
       "0  ...  Elsewhere Studios artist-in-residency program!   3596.0      False   \n",
       "1  ...    1000 Artists: Presidential Inauguration 2013   4586.0      False   \n",
       "2  ...                                    MyPhoneHenge   5217.0      False   \n",
       "\n",
       "   usd_pledged        location  funded  subcategory  \\\n",
       "0       3596.0      Paonia, CO    True  mixed media   \n",
       "1       4586.0  Washington, DC    True   public art   \n",
       "2       5217.0      Frisco, TX    True    sculpture   \n",
       "\n",
       "                                         project_url  \\\n",
       "0  https://www.kickstarter.com/projects/hilaryeme...   \n",
       "1  https://www.kickstarter.com/projects/17146650/...   \n",
       "2  https://www.kickstarter.com/projects/belveal/m...   \n",
       "\n",
       "                                          reward_url funded_amount_per_backer  \n",
       "0  https://www.kickstarter.com/projects/hilaryeme...                    44.95  \n",
       "1  https://www.kickstarter.com/projects/17146650/...                    55.93  \n",
       "2  https://www.kickstarter.com/projects/belveal/m...                   248.43  \n",
       "\n",
       "[3 rows x 22 columns]"
      ]
     },
     "execution_count": 29,
     "metadata": {},
     "output_type": "execute_result"
    }
   ],
   "source": [
    "dataFrame['funded_amount_per_backer'] = np.where(dataFrame['funded'] == True , \n",
    "                                                 dataFrame.converted_pledged_amount / dataFrame.backers_count,\n",
    "                                                0)\n",
    "dataFrame.funded_amount_per_backer = dataFrame.funded_amount_per_backer.round(2)\n",
    "dataFrame.head(3)"
   ]
  },
  {
   "cell_type": "markdown",
   "metadata": {},
   "source": [
    "Addition of the second feature named project_time which represents the duration of the project since its creation until its deadline."
   ]
  },
  {
   "cell_type": "code",
   "execution_count": 30,
   "metadata": {
    "scrolled": true
   },
   "outputs": [
    {
     "data": {
      "text/html": [
       "<div>\n",
       "<style scoped>\n",
       "    .dataframe tbody tr th:only-of-type {\n",
       "        vertical-align: middle;\n",
       "    }\n",
       "\n",
       "    .dataframe tbody tr th {\n",
       "        vertical-align: top;\n",
       "    }\n",
       "\n",
       "    .dataframe thead th {\n",
       "        text-align: right;\n",
       "    }\n",
       "</style>\n",
       "<table border=\"1\" class=\"dataframe\">\n",
       "  <thead>\n",
       "    <tr style=\"text-align: right;\">\n",
       "      <th></th>\n",
       "      <th>project_id</th>\n",
       "      <th>backers_count</th>\n",
       "      <th>blurb</th>\n",
       "      <th>category</th>\n",
       "      <th>converted_pledged_amount</th>\n",
       "      <th>country</th>\n",
       "      <th>created_at</th>\n",
       "      <th>currency</th>\n",
       "      <th>deadline</th>\n",
       "      <th>fx_rate</th>\n",
       "      <th>...</th>\n",
       "      <th>pledged</th>\n",
       "      <th>staff_pick</th>\n",
       "      <th>usd_pledged</th>\n",
       "      <th>location</th>\n",
       "      <th>funded</th>\n",
       "      <th>subcategory</th>\n",
       "      <th>project_url</th>\n",
       "      <th>reward_url</th>\n",
       "      <th>funded_amount_per_backer</th>\n",
       "      <th>project_time</th>\n",
       "    </tr>\n",
       "  </thead>\n",
       "  <tbody>\n",
       "    <tr>\n",
       "      <th>0</th>\n",
       "      <td>KS_000000</td>\n",
       "      <td>80</td>\n",
       "      <td>I will be an artist-in-residence at Elsewhere ...</td>\n",
       "      <td>art</td>\n",
       "      <td>3596</td>\n",
       "      <td>US</td>\n",
       "      <td>1325980505</td>\n",
       "      <td>USD</td>\n",
       "      <td>1334866560</td>\n",
       "      <td>1.0</td>\n",
       "      <td>...</td>\n",
       "      <td>3596.0</td>\n",
       "      <td>False</td>\n",
       "      <td>3596.0</td>\n",
       "      <td>Paonia, CO</td>\n",
       "      <td>True</td>\n",
       "      <td>mixed media</td>\n",
       "      <td>https://www.kickstarter.com/projects/hilaryeme...</td>\n",
       "      <td>https://www.kickstarter.com/projects/hilaryeme...</td>\n",
       "      <td>44.95</td>\n",
       "      <td>8886055</td>\n",
       "    </tr>\n",
       "    <tr>\n",
       "      <th>1</th>\n",
       "      <td>KS_000001</td>\n",
       "      <td>82</td>\n",
       "      <td>1000 Artists is a public art-making installati...</td>\n",
       "      <td>art</td>\n",
       "      <td>4586</td>\n",
       "      <td>US</td>\n",
       "      <td>1330926084</td>\n",
       "      <td>USD</td>\n",
       "      <td>1336440145</td>\n",
       "      <td>1.0</td>\n",
       "      <td>...</td>\n",
       "      <td>4586.0</td>\n",
       "      <td>False</td>\n",
       "      <td>4586.0</td>\n",
       "      <td>Washington, DC</td>\n",
       "      <td>True</td>\n",
       "      <td>public art</td>\n",
       "      <td>https://www.kickstarter.com/projects/17146650/...</td>\n",
       "      <td>https://www.kickstarter.com/projects/17146650/...</td>\n",
       "      <td>55.93</td>\n",
       "      <td>5514061</td>\n",
       "    </tr>\n",
       "    <tr>\n",
       "      <th>2</th>\n",
       "      <td>KS_000002</td>\n",
       "      <td>21</td>\n",
       "      <td>The Sequel to ‘My Favorite Machine”, \"MyPhoneH...</td>\n",
       "      <td>art</td>\n",
       "      <td>5217</td>\n",
       "      <td>US</td>\n",
       "      <td>1332382894</td>\n",
       "      <td>USD</td>\n",
       "      <td>1338175739</td>\n",
       "      <td>1.0</td>\n",
       "      <td>...</td>\n",
       "      <td>5217.0</td>\n",
       "      <td>False</td>\n",
       "      <td>5217.0</td>\n",
       "      <td>Frisco, TX</td>\n",
       "      <td>True</td>\n",
       "      <td>sculpture</td>\n",
       "      <td>https://www.kickstarter.com/projects/belveal/m...</td>\n",
       "      <td>https://www.kickstarter.com/projects/belveal/m...</td>\n",
       "      <td>248.43</td>\n",
       "      <td>5792845</td>\n",
       "    </tr>\n",
       "  </tbody>\n",
       "</table>\n",
       "<p>3 rows × 23 columns</p>\n",
       "</div>"
      ],
      "text/plain": [
       "  project_id  backers_count  \\\n",
       "0  KS_000000             80   \n",
       "1  KS_000001             82   \n",
       "2  KS_000002             21   \n",
       "\n",
       "                                               blurb category  \\\n",
       "0  I will be an artist-in-residence at Elsewhere ...      art   \n",
       "1  1000 Artists is a public art-making installati...      art   \n",
       "2  The Sequel to ‘My Favorite Machine”, \"MyPhoneH...      art   \n",
       "\n",
       "   converted_pledged_amount country  created_at currency    deadline  fx_rate  \\\n",
       "0                      3596      US  1325980505      USD  1334866560      1.0   \n",
       "1                      4586      US  1330926084      USD  1336440145      1.0   \n",
       "2                      5217      US  1332382894      USD  1338175739      1.0   \n",
       "\n",
       "   ...  pledged  staff_pick usd_pledged        location  funded  subcategory  \\\n",
       "0  ...   3596.0       False      3596.0      Paonia, CO    True  mixed media   \n",
       "1  ...   4586.0       False      4586.0  Washington, DC    True   public art   \n",
       "2  ...   5217.0       False      5217.0      Frisco, TX    True    sculpture   \n",
       "\n",
       "                                         project_url  \\\n",
       "0  https://www.kickstarter.com/projects/hilaryeme...   \n",
       "1  https://www.kickstarter.com/projects/17146650/...   \n",
       "2  https://www.kickstarter.com/projects/belveal/m...   \n",
       "\n",
       "                                          reward_url funded_amount_per_backer  \\\n",
       "0  https://www.kickstarter.com/projects/hilaryeme...                    44.95   \n",
       "1  https://www.kickstarter.com/projects/17146650/...                    55.93   \n",
       "2  https://www.kickstarter.com/projects/belveal/m...                   248.43   \n",
       "\n",
       "  project_time  \n",
       "0      8886055  \n",
       "1      5514061  \n",
       "2      5792845  \n",
       "\n",
       "[3 rows x 23 columns]"
      ]
     },
     "execution_count": 30,
     "metadata": {},
     "output_type": "execute_result"
    }
   ],
   "source": [
    "dataFrame['project_time'] = [ row.deadline - row.created_at for index, row in dataFrame.iterrows() ]\n",
    "dataFrame.head(3)"
   ]
  },
  {
   "cell_type": "code",
   "execution_count": 250,
   "metadata": {},
   "outputs": [
    {
     "data": {
      "text/html": [
       "<div>\n",
       "<style scoped>\n",
       "    .dataframe tbody tr th:only-of-type {\n",
       "        vertical-align: middle;\n",
       "    }\n",
       "\n",
       "    .dataframe tbody tr th {\n",
       "        vertical-align: top;\n",
       "    }\n",
       "\n",
       "    .dataframe thead th {\n",
       "        text-align: right;\n",
       "    }\n",
       "</style>\n",
       "<table border=\"1\" class=\"dataframe\">\n",
       "  <thead>\n",
       "    <tr style=\"text-align: right;\">\n",
       "      <th></th>\n",
       "      <th>project_id</th>\n",
       "      <th>backers_count</th>\n",
       "      <th>blurb</th>\n",
       "      <th>category</th>\n",
       "      <th>converted_pledged_amount</th>\n",
       "      <th>country</th>\n",
       "      <th>created_at</th>\n",
       "      <th>currency</th>\n",
       "      <th>deadline</th>\n",
       "      <th>fx_rate</th>\n",
       "      <th>...</th>\n",
       "      <th>converted_pledged_amount_scaled</th>\n",
       "      <th>log_goal</th>\n",
       "      <th>category_no</th>\n",
       "      <th>subcategory_no</th>\n",
       "      <th>country_no</th>\n",
       "      <th>location_no</th>\n",
       "      <th>FundedPre</th>\n",
       "      <th>blurb_length</th>\n",
       "      <th>name_length</th>\n",
       "      <th>deadline_date</th>\n",
       "    </tr>\n",
       "  </thead>\n",
       "  <tbody>\n",
       "    <tr>\n",
       "      <th>0</th>\n",
       "      <td>KS_000000</td>\n",
       "      <td>80</td>\n",
       "      <td>I will be an artist-in-residence at Elsewhere ...</td>\n",
       "      <td>art</td>\n",
       "      <td>3596</td>\n",
       "      <td>US</td>\n",
       "      <td>1325980505</td>\n",
       "      <td>USD</td>\n",
       "      <td>1334866560</td>\n",
       "      <td>1.0</td>\n",
       "      <td>...</td>\n",
       "      <td>3596</td>\n",
       "      <td>7.937375</td>\n",
       "      <td>0</td>\n",
       "      <td>86</td>\n",
       "      <td>160</td>\n",
       "      <td>6610</td>\n",
       "      <td>True</td>\n",
       "      <td>118</td>\n",
       "      <td>46</td>\n",
       "      <td>1970-01-01 00:00:01.334866560</td>\n",
       "    </tr>\n",
       "    <tr>\n",
       "      <th>1</th>\n",
       "      <td>KS_000001</td>\n",
       "      <td>82</td>\n",
       "      <td>1000 Artists is a public art-making installati...</td>\n",
       "      <td>art</td>\n",
       "      <td>4586</td>\n",
       "      <td>US</td>\n",
       "      <td>1330926084</td>\n",
       "      <td>USD</td>\n",
       "      <td>1336440145</td>\n",
       "      <td>1.0</td>\n",
       "      <td>...</td>\n",
       "      <td>4586</td>\n",
       "      <td>8.411833</td>\n",
       "      <td>0</td>\n",
       "      <td>113</td>\n",
       "      <td>160</td>\n",
       "      <td>9235</td>\n",
       "      <td>True</td>\n",
       "      <td>117</td>\n",
       "      <td>44</td>\n",
       "      <td>1970-01-01 00:00:01.336440145</td>\n",
       "    </tr>\n",
       "    <tr>\n",
       "      <th>2</th>\n",
       "      <td>KS_000002</td>\n",
       "      <td>21</td>\n",
       "      <td>The Sequel to ‘My Favorite Machine”, \"MyPhoneH...</td>\n",
       "      <td>art</td>\n",
       "      <td>5217</td>\n",
       "      <td>US</td>\n",
       "      <td>1332382894</td>\n",
       "      <td>USD</td>\n",
       "      <td>1338175739</td>\n",
       "      <td>1.0</td>\n",
       "      <td>...</td>\n",
       "      <td>5217</td>\n",
       "      <td>8.517193</td>\n",
       "      <td>0</td>\n",
       "      <td>127</td>\n",
       "      <td>160</td>\n",
       "      <td>3036</td>\n",
       "      <td>True</td>\n",
       "      <td>104</td>\n",
       "      <td>12</td>\n",
       "      <td>1970-01-01 00:00:01.338175739</td>\n",
       "    </tr>\n",
       "    <tr>\n",
       "      <th>3</th>\n",
       "      <td>KS_000003</td>\n",
       "      <td>37</td>\n",
       "      <td>A film exploring the role and value of art edu...</td>\n",
       "      <td>art</td>\n",
       "      <td>7160</td>\n",
       "      <td>GB</td>\n",
       "      <td>1332342451</td>\n",
       "      <td>USD</td>\n",
       "      <td>1334806096</td>\n",
       "      <td>1.0</td>\n",
       "      <td>...</td>\n",
       "      <td>7160</td>\n",
       "      <td>8.779557</td>\n",
       "      <td>0</td>\n",
       "      <td>10</td>\n",
       "      <td>55</td>\n",
       "      <td>3206</td>\n",
       "      <td>True</td>\n",
       "      <td>127</td>\n",
       "      <td>12</td>\n",
       "      <td>1970-01-01 00:00:01.334806096</td>\n",
       "    </tr>\n",
       "    <tr>\n",
       "      <th>4</th>\n",
       "      <td>KS_000004</td>\n",
       "      <td>153</td>\n",
       "      <td>We need to build a kitchen for Habitable Space...</td>\n",
       "      <td>art</td>\n",
       "      <td>15445</td>\n",
       "      <td>US</td>\n",
       "      <td>1328562617</td>\n",
       "      <td>USD</td>\n",
       "      <td>1335584240</td>\n",
       "      <td>1.0</td>\n",
       "      <td>...</td>\n",
       "      <td>15445</td>\n",
       "      <td>9.615805</td>\n",
       "      <td>0</td>\n",
       "      <td>113</td>\n",
       "      <td>160</td>\n",
       "      <td>4381</td>\n",
       "      <td>True</td>\n",
       "      <td>114</td>\n",
       "      <td>30</td>\n",
       "      <td>1970-01-01 00:00:01.335584240</td>\n",
       "    </tr>\n",
       "  </tbody>\n",
       "</table>\n",
       "<p>5 rows × 33 columns</p>\n",
       "</div>"
      ],
      "text/plain": [
       "  project_id  backers_count  \\\n",
       "0  KS_000000             80   \n",
       "1  KS_000001             82   \n",
       "2  KS_000002             21   \n",
       "3  KS_000003             37   \n",
       "4  KS_000004            153   \n",
       "\n",
       "                                               blurb category  \\\n",
       "0  I will be an artist-in-residence at Elsewhere ...      art   \n",
       "1  1000 Artists is a public art-making installati...      art   \n",
       "2  The Sequel to ‘My Favorite Machine”, \"MyPhoneH...      art   \n",
       "3  A film exploring the role and value of art edu...      art   \n",
       "4  We need to build a kitchen for Habitable Space...      art   \n",
       "\n",
       "   converted_pledged_amount country  created_at currency    deadline  fx_rate  \\\n",
       "0                      3596      US  1325980505      USD  1334866560      1.0   \n",
       "1                      4586      US  1330926084      USD  1336440145      1.0   \n",
       "2                      5217      US  1332382894      USD  1338175739      1.0   \n",
       "3                      7160      GB  1332342451      USD  1334806096      1.0   \n",
       "4                     15445      US  1328562617      USD  1335584240      1.0   \n",
       "\n",
       "   ...  converted_pledged_amount_scaled  log_goal category_no  subcategory_no  \\\n",
       "0  ...                             3596  7.937375           0              86   \n",
       "1  ...                             4586  8.411833           0             113   \n",
       "2  ...                             5217  8.517193           0             127   \n",
       "3  ...                             7160  8.779557           0              10   \n",
       "4  ...                            15445  9.615805           0             113   \n",
       "\n",
       "   country_no  location_no FundedPre  blurb_length name_length  \\\n",
       "0         160         6610      True           118          46   \n",
       "1         160         9235      True           117          44   \n",
       "2         160         3036      True           104          12   \n",
       "3          55         3206      True           127          12   \n",
       "4         160         4381      True           114          30   \n",
       "\n",
       "                  deadline_date  \n",
       "0 1970-01-01 00:00:01.334866560  \n",
       "1 1970-01-01 00:00:01.336440145  \n",
       "2 1970-01-01 00:00:01.338175739  \n",
       "3 1970-01-01 00:00:01.334806096  \n",
       "4 1970-01-01 00:00:01.335584240  \n",
       "\n",
       "[5 rows x 33 columns]"
      ]
     },
     "execution_count": 250,
     "metadata": {},
     "output_type": "execute_result"
    }
   ],
   "source": [
    "dataFrame['blurb_length'] = dataFrame['blurb'].str.len()\n",
    "dataFrame['name_length'] = dataFrame['name'].str.len()\n",
    "dataFrame.head()"
   ]
  },
  {
   "cell_type": "code",
   "execution_count": null,
   "metadata": {},
   "outputs": [],
   "source": []
  },
  {
   "cell_type": "code",
   "execution_count": 285,
   "metadata": {},
   "outputs": [
    {
     "data": {
      "text/plain": [
       "count                       87967\n",
       "mean      70 days 08:07:20.762524\n",
       "std      101 days 14:22:31.187896\n",
       "min               1 days 00:04:39\n",
       "25%       32 days 11:42:25.500000\n",
       "50%              44 days 20:34:41\n",
       "75%       67 days 09:43:33.500000\n",
       "max            2245 days 06:59:18\n",
       "Name: project-duration, dtype: object"
      ]
     },
     "execution_count": 285,
     "metadata": {},
     "output_type": "execute_result"
    }
   ],
   "source": [
    "cols_to_convert = ['created_at', 'deadline', 'launched_at']\n",
    "for c in cols_to_convert:\n",
    "    dataFrame[c] = pd.to_datetime(dataFrame[c], origin='unix', unit='s')\n",
    "dataFrame.head()\n",
    "\n",
    "dataFrame['project-duration'] = dataFrame['deadline'] - dataFrame['created_at']\n",
    "dataFrame['project-duration'].describe()\n",
    "\n",
    "#dataFrame['project-duration-weeks'] "
   ]
  },
  {
   "cell_type": "markdown",
   "metadata": {},
   "source": [
    "Normalize the data with log-transformation before modelling !!!"
   ]
  },
  {
   "cell_type": "code",
   "execution_count": 31,
   "metadata": {},
   "outputs": [
    {
     "name": "stdout",
     "output_type": "stream",
     "text": [
      "0.6462413467160136\n"
     ]
    }
   ],
   "source": [
    "df = pd.DataFrame(dataFrame)\n",
    "x = df[['backers_count', 'funded', 'funded_amount_per_backer', 'project_time']]\n",
    "y = dataFrame.converted_pledged_amount\n",
    "\n",
    "x_train, x_test, y_train, y_test = train_test_split(x, y, test_size = 0.3)\n",
    "\n",
    "modelTest = LinearRegression()\n",
    "modelTest.fit(x,y)\n",
    "print (modelTest.score(x,y))"
   ]
  },
  {
   "cell_type": "code",
   "execution_count": 32,
   "metadata": {},
   "outputs": [],
   "source": [
    "# dataFrameTest = pd.read_csv('KS_test_data.csv')\n",
    "# df = pd.DataFrame(dataFrameTest)\n",
    "# x = df[['backers_count', 'funded']]\n",
    "# y = dataFrame.converted_pledged_amount\n",
    "\n",
    "# x_train, x_test, y_train, y_test = train_test_split(x, y, test_size = 0.3)\n",
    "\n",
    "# modelTest = LinearRegression()\n",
    "# modelTest.fit(x,y)\n",
    "# print (modelTest.score(x,y))"
   ]
  },
  {
   "cell_type": "markdown",
   "metadata": {},
   "source": [
    "# Test features\n",
    "All the features that are in the test set:\n",
    "- project_id;\n",
    "- blurb;\n",
    "- category;\n",
    "- country;\n",
    "- created_at;\n",
    "- currency; \n",
    "- deadline;\n",
    "- fx_rate;\n",
    "- goal;\n",
    "- launched_at;\n",
    "- name;\n",
    "- staff_pick;\n",
    "- location;\n",
    "- subcategory;\n",
    "- project_url;\n",
    "- reward_url"
   ]
  },
  {
   "cell_type": "markdown",
   "metadata": {},
   "source": [
    "<!-- We maybe removed too much data as now the countis 73906 out of 100K -->"
   ]
  },
  {
   "cell_type": "markdown",
   "metadata": {},
   "source": [
    "### Encode categorical features (make numeric)"
   ]
  },
  {
   "cell_type": "code",
   "execution_count": 179,
   "metadata": {},
   "outputs": [],
   "source": [
    "le = LabelEncoder()\n",
    "\n",
    "# Creating numeric versions of categorical columns\n",
    "df['category_no'] = le.fit_transform(df['category'])\n",
    "df['country_no'] = le.fit_transform(df['country'])\n",
    "df['subcategory_no'] = le.fit_transform(df['subcategory'])"
   ]
  },
  {
   "cell_type": "markdown",
   "metadata": {},
   "source": [
    "### Random Forest model test"
   ]
  },
  {
   "cell_type": "code",
   "execution_count": 292,
   "metadata": {},
   "outputs": [
    {
     "name": "stdout",
     "output_type": "stream",
     "text": [
      "Accuracy: 0.7879959076958054\n",
      "Balanced accuracy: 0.78686848898636\n",
      "Recall: [0.77008693 0.80365005]\n"
     ]
    },
    {
     "data": {
      "image/png": "[encoded data removed]",
      "text/plain": [
       "<Figure size 432x288 with 1 Axes>"
      ]
     },
     "metadata": {
      "needs_background": "light"
     },
     "output_type": "display_data"
    },
    {
     "data": {
      "text/plain": [
       "array([[ 9479,  2830],\n",
       "       [ 2765, 11317]])"
      ]
     },
     "execution_count": 292,
     "metadata": {},
     "output_type": "execute_result"
    }
   ],
   "source": [
    "le = LabelEncoder()\n",
    "\n",
    "dataFrame['log_goal'] = np.log(dataFrame['goal'])\n",
    "# Creating numeric versions of categorical columns\n",
    "dataFrame['category_no'] = le.fit_transform(dataFrame['category'])\n",
    "dataFrame['subcategory_no'] = le.fit_transform(dataFrame['subcategory'])\n",
    "dataFrame['country_no'] = le.fit_transform(dataFrame['country'])\n",
    "dataFrame['location_no'] = le.fit_transform(dataFrame['location'])\n",
    "\n",
    "from sklearn.ensemble import RandomForestClassifier\n",
    "\n",
    "X = dataFrame[['goal', 'category_no', 'subcategory_no', 'staff_pick','country_no', 'location_no']]  # Known features\n",
    "y = dataFrame['funded']  # To be predicted\n",
    "\n",
    "# Split the dataset into a training- and test set\n",
    "X_train, X_test, y_train, y_test = train_test_split(X, y, test_size=0.3)\n",
    "\n",
    "# Create a Gaussian Classifier\n",
    "clf = RandomForestClassifier(n_estimators=20)\n",
    "\n",
    "# Train the model with the training features\n",
    "clf.fit(X_train,y_train)\n",
    "\n",
    "# y_true = dataFrame['funded']\n",
    "y_pred = clf.predict(X_test)\n",
    "\n",
    "# Correctness of the classifier (slightly different everytime)\n",
    "print(\"Accuracy:\",metrics.accuracy_score(y_test, y_pred))\n",
    "print(\"Balanced accuracy:\",metrics.balanced_accuracy_score(y_test, y_pred))\n",
    "\n",
    "from sklearn.metrics import recall_score\n",
    "# The best value is 1 and the worst value is 0.\n",
    "print(\"Recall:\",recall_score(y_test, y_pred, average=None))\n",
    "\n",
    "#dataFrame['FundedPre'] = clf.predict(X)\n",
    "#dataFrame.FundedPre.describe()\n",
    "\n",
    "# confusion matrix\n",
    "from sklearn.metrics import confusion_matrix\n",
    "\n",
    "\n",
    "import matplotlib.pyplot as plt\n",
    "plt.imshow(confusion_matrix(y_test, y_pred), cmap='binary', interpolation='None')\n",
    "plt.show()\n",
    "confusion_matrix(y_test, y_pred)\n"
   ]
  },
  {
   "cell_type": "markdown",
   "metadata": {},
   "source": [
    "Confusion matrix:  \n",
    "\n",
    "TP, FP   \n",
    "FN, TN"
   ]
  },
  {
   "cell_type": "markdown",
   "metadata": {},
   "source": [
    "#### Does model perform equal without *project_time*? (→ yes)"
   ]
  },
  {
   "cell_type": "code",
   "execution_count": 130,
   "metadata": {},
   "outputs": [],
   "source": [
    "# from sklearn.metrics import log_loss\n",
    "\n",
    "# metrics.log_loss(y_test, y_pred, eps=1e-15)\n"
   ]
  },
  {
   "cell_type": "code",
   "execution_count": 200,
   "metadata": {},
   "outputs": [
    {
     "ename": "ValueError",
     "evalue": "Number of features of the model must match the input. Model n_features is 7 and input n_features is 5 ",
     "output_type": "error",
     "traceback": [
      "\u001b[0;31m---------------------------------------------------------------------------\u001b[0m",
      "\u001b[0;31mValueError\u001b[0m                                Traceback (most recent call last)",
      "\u001b[0;32m<ipython-input-200-0bbb83832992>\u001b[0m in \u001b[0;36m<module>\u001b[0;34m\u001b[0m\n\u001b[1;32m      6\u001b[0m \u001b[0;34m\u001b[0m\u001b[0m\n\u001b[1;32m      7\u001b[0m \u001b[0mx\u001b[0m\u001b[0;34m=\u001b[0m\u001b[0mdataFrameTest\u001b[0m\u001b[0;34m[\u001b[0m\u001b[0;34m[\u001b[0m\u001b[0;34m'goal'\u001b[0m\u001b[0;34m,\u001b[0m \u001b[0;34m'category_no'\u001b[0m\u001b[0;34m,\u001b[0m \u001b[0;34m'subcategory_no'\u001b[0m\u001b[0;34m,\u001b[0m \u001b[0;34m'staff_pick'\u001b[0m\u001b[0;34m,\u001b[0m \u001b[0;34m'project_time'\u001b[0m\u001b[0;34m]\u001b[0m\u001b[0;34m]\u001b[0m  \u001b[0;31m# Known features\u001b[0m\u001b[0;34m\u001b[0m\u001b[0;34m\u001b[0m\u001b[0m\n\u001b[0;32m----> 8\u001b[0;31m \u001b[0mdataFrameTest\u001b[0m\u001b[0;34m[\u001b[0m\u001b[0;34m'funded'\u001b[0m\u001b[0;34m]\u001b[0m \u001b[0;34m=\u001b[0m \u001b[0mclf\u001b[0m\u001b[0;34m.\u001b[0m\u001b[0mpredict\u001b[0m\u001b[0;34m(\u001b[0m\u001b[0mx\u001b[0m\u001b[0;34m)\u001b[0m\u001b[0;34m\u001b[0m\u001b[0;34m\u001b[0m\u001b[0m\n\u001b[0m\u001b[1;32m      9\u001b[0m \u001b[0mdataFrameTest\u001b[0m\u001b[0;34m.\u001b[0m\u001b[0mfunded\u001b[0m\u001b[0;34m.\u001b[0m\u001b[0mdescribe\u001b[0m\u001b[0;34m(\u001b[0m\u001b[0;34m)\u001b[0m\u001b[0;34m\u001b[0m\u001b[0;34m\u001b[0m\u001b[0m\n",
      "\u001b[0;32m~/opt/anaconda3/lib/python3.7/site-packages/sklearn/ensemble/_forest.py\u001b[0m in \u001b[0;36mpredict\u001b[0;34m(self, X)\u001b[0m\n\u001b[1;32m    610\u001b[0m             \u001b[0mThe\u001b[0m \u001b[0mpredicted\u001b[0m \u001b[0mclasses\u001b[0m\u001b[0;34m.\u001b[0m\u001b[0;34m\u001b[0m\u001b[0;34m\u001b[0m\u001b[0m\n\u001b[1;32m    611\u001b[0m         \"\"\"\n\u001b[0;32m--> 612\u001b[0;31m         \u001b[0mproba\u001b[0m \u001b[0;34m=\u001b[0m \u001b[0mself\u001b[0m\u001b[0;34m.\u001b[0m\u001b[0mpredict_proba\u001b[0m\u001b[0;34m(\u001b[0m\u001b[0mX\u001b[0m\u001b[0;34m)\u001b[0m\u001b[0;34m\u001b[0m\u001b[0;34m\u001b[0m\u001b[0m\n\u001b[0m\u001b[1;32m    613\u001b[0m \u001b[0;34m\u001b[0m\u001b[0m\n\u001b[1;32m    614\u001b[0m         \u001b[0;32mif\u001b[0m \u001b[0mself\u001b[0m\u001b[0;34m.\u001b[0m\u001b[0mn_outputs_\u001b[0m \u001b[0;34m==\u001b[0m \u001b[0;36m1\u001b[0m\u001b[0;34m:\u001b[0m\u001b[0;34m\u001b[0m\u001b[0;34m\u001b[0m\u001b[0m\n",
      "\u001b[0;32m~/opt/anaconda3/lib/python3.7/site-packages/sklearn/ensemble/_forest.py\u001b[0m in \u001b[0;36mpredict_proba\u001b[0;34m(self, X)\u001b[0m\n\u001b[1;32m    654\u001b[0m         \u001b[0mcheck_is_fitted\u001b[0m\u001b[0;34m(\u001b[0m\u001b[0mself\u001b[0m\u001b[0;34m)\u001b[0m\u001b[0;34m\u001b[0m\u001b[0;34m\u001b[0m\u001b[0m\n\u001b[1;32m    655\u001b[0m         \u001b[0;31m# Check data\u001b[0m\u001b[0;34m\u001b[0m\u001b[0;34m\u001b[0m\u001b[0;34m\u001b[0m\u001b[0m\n\u001b[0;32m--> 656\u001b[0;31m         \u001b[0mX\u001b[0m \u001b[0;34m=\u001b[0m \u001b[0mself\u001b[0m\u001b[0;34m.\u001b[0m\u001b[0m_validate_X_predict\u001b[0m\u001b[0;34m(\u001b[0m\u001b[0mX\u001b[0m\u001b[0;34m)\u001b[0m\u001b[0;34m\u001b[0m\u001b[0;34m\u001b[0m\u001b[0m\n\u001b[0m\u001b[1;32m    657\u001b[0m \u001b[0;34m\u001b[0m\u001b[0m\n\u001b[1;32m    658\u001b[0m         \u001b[0;31m# Assign chunk of trees to jobs\u001b[0m\u001b[0;34m\u001b[0m\u001b[0;34m\u001b[0m\u001b[0;34m\u001b[0m\u001b[0m\n",
      "\u001b[0;32m~/opt/anaconda3/lib/python3.7/site-packages/sklearn/ensemble/_forest.py\u001b[0m in \u001b[0;36m_validate_X_predict\u001b[0;34m(self, X)\u001b[0m\n\u001b[1;32m    410\u001b[0m         \u001b[0mcheck_is_fitted\u001b[0m\u001b[0;34m(\u001b[0m\u001b[0mself\u001b[0m\u001b[0;34m)\u001b[0m\u001b[0;34m\u001b[0m\u001b[0;34m\u001b[0m\u001b[0m\n\u001b[1;32m    411\u001b[0m \u001b[0;34m\u001b[0m\u001b[0m\n\u001b[0;32m--> 412\u001b[0;31m         \u001b[0;32mreturn\u001b[0m \u001b[0mself\u001b[0m\u001b[0;34m.\u001b[0m\u001b[0mestimators_\u001b[0m\u001b[0;34m[\u001b[0m\u001b[0;36m0\u001b[0m\u001b[0;34m]\u001b[0m\u001b[0;34m.\u001b[0m\u001b[0m_validate_X_predict\u001b[0m\u001b[0;34m(\u001b[0m\u001b[0mX\u001b[0m\u001b[0;34m,\u001b[0m \u001b[0mcheck_input\u001b[0m\u001b[0;34m=\u001b[0m\u001b[0;32mTrue\u001b[0m\u001b[0;34m)\u001b[0m\u001b[0;34m\u001b[0m\u001b[0;34m\u001b[0m\u001b[0m\n\u001b[0m\u001b[1;32m    413\u001b[0m \u001b[0;34m\u001b[0m\u001b[0m\n\u001b[1;32m    414\u001b[0m     \u001b[0;34m@\u001b[0m\u001b[0mproperty\u001b[0m\u001b[0;34m\u001b[0m\u001b[0;34m\u001b[0m\u001b[0m\n",
      "\u001b[0;32m~/opt/anaconda3/lib/python3.7/site-packages/sklearn/tree/_classes.py\u001b[0m in \u001b[0;36m_validate_X_predict\u001b[0;34m(self, X, check_input)\u001b[0m\n\u001b[1;32m    389\u001b[0m                              \u001b[0;34m\"match the input. Model n_features is %s and \"\u001b[0m\u001b[0;34m\u001b[0m\u001b[0;34m\u001b[0m\u001b[0m\n\u001b[1;32m    390\u001b[0m                              \u001b[0;34m\"input n_features is %s \"\u001b[0m\u001b[0;34m\u001b[0m\u001b[0;34m\u001b[0m\u001b[0m\n\u001b[0;32m--> 391\u001b[0;31m                              % (self.n_features_, n_features))\n\u001b[0m\u001b[1;32m    392\u001b[0m \u001b[0;34m\u001b[0m\u001b[0m\n\u001b[1;32m    393\u001b[0m         \u001b[0;32mreturn\u001b[0m \u001b[0mX\u001b[0m\u001b[0;34m\u001b[0m\u001b[0;34m\u001b[0m\u001b[0m\n",
      "\u001b[0;31mValueError\u001b[0m: Number of features of the model must match the input. Model n_features is 7 and input n_features is 5 "
     ]
    }
   ],
   "source": [
    "dataFrameTest = pd.read_csv('KS_test_data.csv', delimiter=';')\n",
    "le = LabelEncoder()\n",
    "dataFrameTest['category_no'] = le.fit_transform(dataFrameTest['category'])\n",
    "dataFrameTest['subcategory_no'] = le.fit_transform(dataFrameTest['subcategory'])\n",
    "dataFrameTest['project_time'] = [ row.deadline - row.created_at for index, row in dataFrameTest.iterrows() ]\n",
    "\n",
    "x=dataFrameTest[['goal', 'category_no', 'subcategory_no', 'staff_pick']]  # Known features\n",
    "dataFrameTest['funded'] = clf.predict(x)\n",
    "dataFrameTest.funded.describe()\n"
   ]
  },
  {
   "cell_type": "markdown",
   "metadata": {},
   "source": [
    "### Used websites^\n",
    "- Source for label encoding: [towardsdatascience.com/…](https://towardsdatascience.com/categorical-encoding-using-label-encoding-and-one-hot-encoder-911ef77fb5bd)\n"
   ]
  },
  {
   "cell_type": "markdown",
   "metadata": {},
   "source": [
    "### To do\n",
    "- Find ideal n_estimators value ([helpful?](https://stackoverflow.com/questions/52513495/randomforest-how-to-choose-the-optimal-n-estimator-parameter/52514656))"
   ]
  }
 ],
 "metadata": {
  "kernelspec": {
   "display_name": "Python 3",
   "language": "python",
   "name": "python3"
  },
  "language_info": {
   "codemirror_mode": {
    "name": "ipython",
    "version": 3
   },
   "file_extension": ".py",
   "mimetype": "text/x-python",
   "name": "python",
   "nbconvert_exporter": "python",
   "pygments_lexer": "ipython3",
   "version": "3.7.6"
  }
 },
 "nbformat": 4,
 "nbformat_minor": 2
}
