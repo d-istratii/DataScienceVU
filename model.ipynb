{
 "cells": [
  {
   "cell_type": "code",
   "execution_count": 101,
   "metadata": {},
   "outputs": [],
   "source": [
    "import pandas as pd \n",
    "\n",
    "import seaborn as sns\n",
    "\n",
    "import numpy as np \n",
    "\n",
    "import tensorflow as tf\n",
    "\n",
    "from keras.models import Sequential\n",
    "from keras.layers import Dense \n",
    "from keras.optimizers import Adam\n",
    "from keras.callbacks import EarlyStopping\n",
    "\n",
    "import matplotlib.pyplot as plt\n",
    "from matplotlib.pylab import rcParams\n",
    "\n",
    "from scipy import stats \n",
    "from scipy.stats import norm    \n",
    "\n",
    "from sklearn import preprocessing, metrics\n",
    "from sklearn.metrics import r2_score\n",
    "from sklearn.linear_model import LinearRegression, LogisticRegression\n",
    "from sklearn.model_selection import train_test_split\n",
    "from sklearn.preprocessing import StandardScaler, LabelEncoder\n",
    "\n",
    "import warnings\n",
    "warnings.filterwarnings('ignore')"
   ]
  },
  {
   "cell_type": "code",
   "execution_count": 102,
   "metadata": {},
   "outputs": [],
   "source": [
    "dataFrame = pd.read_csv('KS_train_data.csv')"
   ]
  },
  {
   "cell_type": "code",
   "execution_count": 103,
   "metadata": {},
   "outputs": [
    {
     "name": "stdout",
     "output_type": "stream",
     "text": [
      "Index(['project_id', 'backers_count', 'blurb', 'category',\n",
      "       'converted_pledged_amount', 'country', 'created_at', 'currency',\n",
      "       'deadline', 'fx_rate', 'goal', 'launched_at', 'name', 'pledged',\n",
      "       'staff_pick', 'usd_pledged', 'location', 'funded', 'subcategory',\n",
      "       'project_url', 'reward_url'],\n",
      "      dtype='object')\n"
     ]
    }
   ],
   "source": [
    "print(dataFrame.columns)"
   ]
  },
  {
   "cell_type": "code",
   "execution_count": 104,
   "metadata": {},
   "outputs": [
    {
     "data": {
      "text/html": [
       "<div>\n",
       "<style scoped>\n",
       "    .dataframe tbody tr th:only-of-type {\n",
       "        vertical-align: middle;\n",
       "    }\n",
       "\n",
       "    .dataframe tbody tr th {\n",
       "        vertical-align: top;\n",
       "    }\n",
       "\n",
       "    .dataframe thead th {\n",
       "        text-align: right;\n",
       "    }\n",
       "</style>\n",
       "<table border=\"1\" class=\"dataframe\">\n",
       "  <thead>\n",
       "    <tr style=\"text-align: right;\">\n",
       "      <th></th>\n",
       "      <th>project_id</th>\n",
       "      <th>backers_count</th>\n",
       "      <th>blurb</th>\n",
       "      <th>category</th>\n",
       "      <th>converted_pledged_amount</th>\n",
       "      <th>country</th>\n",
       "      <th>created_at</th>\n",
       "      <th>currency</th>\n",
       "      <th>deadline</th>\n",
       "      <th>fx_rate</th>\n",
       "      <th>...</th>\n",
       "      <th>launched_at</th>\n",
       "      <th>name</th>\n",
       "      <th>pledged</th>\n",
       "      <th>staff_pick</th>\n",
       "      <th>usd_pledged</th>\n",
       "      <th>location</th>\n",
       "      <th>funded</th>\n",
       "      <th>subcategory</th>\n",
       "      <th>project_url</th>\n",
       "      <th>reward_url</th>\n",
       "    </tr>\n",
       "  </thead>\n",
       "  <tbody>\n",
       "    <tr>\n",
       "      <th>0</th>\n",
       "      <td>KS_000000</td>\n",
       "      <td>80</td>\n",
       "      <td>I will be an artist-in-residence at Elsewhere ...</td>\n",
       "      <td>art</td>\n",
       "      <td>3596</td>\n",
       "      <td>US</td>\n",
       "      <td>1325980505</td>\n",
       "      <td>USD</td>\n",
       "      <td>1334866560</td>\n",
       "      <td>1.0</td>\n",
       "      <td>...</td>\n",
       "      <td>1332969260</td>\n",
       "      <td>Elsewhere Studios artist-in-residency program!</td>\n",
       "      <td>3596.00</td>\n",
       "      <td>False</td>\n",
       "      <td>3596.00</td>\n",
       "      <td>Paonia, CO</td>\n",
       "      <td>True</td>\n",
       "      <td>mixed media</td>\n",
       "      <td>https://www.kickstarter.com/projects/hilaryeme...</td>\n",
       "      <td>https://www.kickstarter.com/projects/hilaryeme...</td>\n",
       "    </tr>\n",
       "    <tr>\n",
       "      <th>1</th>\n",
       "      <td>KS_000001</td>\n",
       "      <td>82</td>\n",
       "      <td>1000 Artists is a public art-making installati...</td>\n",
       "      <td>art</td>\n",
       "      <td>4586</td>\n",
       "      <td>US</td>\n",
       "      <td>1330926084</td>\n",
       "      <td>USD</td>\n",
       "      <td>1336440145</td>\n",
       "      <td>1.0</td>\n",
       "      <td>...</td>\n",
       "      <td>1332984145</td>\n",
       "      <td>1000 Artists: Presidential Inauguration 2013</td>\n",
       "      <td>4586.00</td>\n",
       "      <td>False</td>\n",
       "      <td>4586.00</td>\n",
       "      <td>Washington, DC</td>\n",
       "      <td>True</td>\n",
       "      <td>public art</td>\n",
       "      <td>https://www.kickstarter.com/projects/17146650/...</td>\n",
       "      <td>https://www.kickstarter.com/projects/17146650/...</td>\n",
       "    </tr>\n",
       "    <tr>\n",
       "      <th>2</th>\n",
       "      <td>KS_000002</td>\n",
       "      <td>21</td>\n",
       "      <td>The Sequel to ‘My Favorite Machine”, \"MyPhoneH...</td>\n",
       "      <td>art</td>\n",
       "      <td>5217</td>\n",
       "      <td>US</td>\n",
       "      <td>1332382894</td>\n",
       "      <td>USD</td>\n",
       "      <td>1338175739</td>\n",
       "      <td>1.0</td>\n",
       "      <td>...</td>\n",
       "      <td>1332991739</td>\n",
       "      <td>MyPhoneHenge</td>\n",
       "      <td>5217.00</td>\n",
       "      <td>False</td>\n",
       "      <td>5217.00</td>\n",
       "      <td>Frisco, TX</td>\n",
       "      <td>True</td>\n",
       "      <td>sculpture</td>\n",
       "      <td>https://www.kickstarter.com/projects/belveal/m...</td>\n",
       "      <td>https://www.kickstarter.com/projects/belveal/m...</td>\n",
       "    </tr>\n",
       "    <tr>\n",
       "      <th>3</th>\n",
       "      <td>KS_000003</td>\n",
       "      <td>37</td>\n",
       "      <td>A film exploring the role and value of art edu...</td>\n",
       "      <td>art</td>\n",
       "      <td>7160</td>\n",
       "      <td>GB</td>\n",
       "      <td>1332342451</td>\n",
       "      <td>USD</td>\n",
       "      <td>1334806096</td>\n",
       "      <td>1.0</td>\n",
       "      <td>...</td>\n",
       "      <td>1332991696</td>\n",
       "      <td>Walk-Through</td>\n",
       "      <td>7160.00</td>\n",
       "      <td>False</td>\n",
       "      <td>7160.00</td>\n",
       "      <td>Glasgow, UK</td>\n",
       "      <td>True</td>\n",
       "      <td>art</td>\n",
       "      <td>https://www.kickstarter.com/projects/107813091...</td>\n",
       "      <td>https://www.kickstarter.com/projects/107813091...</td>\n",
       "    </tr>\n",
       "    <tr>\n",
       "      <th>4</th>\n",
       "      <td>KS_000004</td>\n",
       "      <td>153</td>\n",
       "      <td>We need to build a kitchen for Habitable Space...</td>\n",
       "      <td>art</td>\n",
       "      <td>15445</td>\n",
       "      <td>US</td>\n",
       "      <td>1328562617</td>\n",
       "      <td>USD</td>\n",
       "      <td>1335584240</td>\n",
       "      <td>1.0</td>\n",
       "      <td>...</td>\n",
       "      <td>1332992240</td>\n",
       "      <td>A kitchen for Habitable Spaces</td>\n",
       "      <td>15445.00</td>\n",
       "      <td>False</td>\n",
       "      <td>15445.00</td>\n",
       "      <td>Kingsbury, TX</td>\n",
       "      <td>True</td>\n",
       "      <td>public art</td>\n",
       "      <td>https://www.kickstarter.com/projects/104409276...</td>\n",
       "      <td>https://www.kickstarter.com/projects/104409276...</td>\n",
       "    </tr>\n",
       "    <tr>\n",
       "      <th>5</th>\n",
       "      <td>KS_000005</td>\n",
       "      <td>18</td>\n",
       "      <td>Source Material is 2 person exhibition of the ...</td>\n",
       "      <td>art</td>\n",
       "      <td>2190</td>\n",
       "      <td>US</td>\n",
       "      <td>1331239703</td>\n",
       "      <td>USD</td>\n",
       "      <td>1336090320</td>\n",
       "      <td>1.0</td>\n",
       "      <td>...</td>\n",
       "      <td>1333017856</td>\n",
       "      <td>Source Material: Works by Brian Dupont and Chr...</td>\n",
       "      <td>2190.00</td>\n",
       "      <td>False</td>\n",
       "      <td>2190.00</td>\n",
       "      <td>Houston, TX</td>\n",
       "      <td>True</td>\n",
       "      <td>painting</td>\n",
       "      <td>https://www.kickstarter.com/projects/973860748...</td>\n",
       "      <td>https://www.kickstarter.com/projects/973860748...</td>\n",
       "    </tr>\n",
       "    <tr>\n",
       "      <th>6</th>\n",
       "      <td>KS_000006</td>\n",
       "      <td>156</td>\n",
       "      <td>An anthropological field study of the Dwarven ...</td>\n",
       "      <td>art</td>\n",
       "      <td>5429</td>\n",
       "      <td>US</td>\n",
       "      <td>1332802530</td>\n",
       "      <td>USD</td>\n",
       "      <td>1334030340</td>\n",
       "      <td>1.0</td>\n",
       "      <td>...</td>\n",
       "      <td>1333045464</td>\n",
       "      <td>A Book of Dwarves</td>\n",
       "      <td>5429.95</td>\n",
       "      <td>False</td>\n",
       "      <td>5429.95</td>\n",
       "      <td>Chicago, IL</td>\n",
       "      <td>True</td>\n",
       "      <td>art</td>\n",
       "      <td>https://www.kickstarter.com/projects/136757708...</td>\n",
       "      <td>https://www.kickstarter.com/projects/136757708...</td>\n",
       "    </tr>\n",
       "    <tr>\n",
       "      <th>7</th>\n",
       "      <td>KS_000007</td>\n",
       "      <td>479</td>\n",
       "      <td>Portrait artist seeks funds to kickstart an ex...</td>\n",
       "      <td>art</td>\n",
       "      <td>62736</td>\n",
       "      <td>US</td>\n",
       "      <td>1331325438</td>\n",
       "      <td>USD</td>\n",
       "      <td>1335671940</td>\n",
       "      <td>1.0</td>\n",
       "      <td>...</td>\n",
       "      <td>1332822807</td>\n",
       "      <td>Drawing a Drawing 365</td>\n",
       "      <td>62736.01</td>\n",
       "      <td>True</td>\n",
       "      <td>62736.01</td>\n",
       "      <td>New Britain, CT</td>\n",
       "      <td>True</td>\n",
       "      <td>painting</td>\n",
       "      <td>https://www.kickstarter.com/projects/michaelsh...</td>\n",
       "      <td>https://www.kickstarter.com/projects/michaelsh...</td>\n",
       "    </tr>\n",
       "    <tr>\n",
       "      <th>8</th>\n",
       "      <td>KS_000008</td>\n",
       "      <td>41</td>\n",
       "      <td>This is a month long Residency at the The Verm...</td>\n",
       "      <td>art</td>\n",
       "      <td>2930</td>\n",
       "      <td>US</td>\n",
       "      <td>1331904129</td>\n",
       "      <td>USD</td>\n",
       "      <td>1336736610</td>\n",
       "      <td>1.0</td>\n",
       "      <td>...</td>\n",
       "      <td>1332848610</td>\n",
       "      <td>The Vermont Studio Center Artist Residency Pro...</td>\n",
       "      <td>2930.00</td>\n",
       "      <td>True</td>\n",
       "      <td>2930.00</td>\n",
       "      <td>Johnson, VT</td>\n",
       "      <td>True</td>\n",
       "      <td>painting</td>\n",
       "      <td>https://www.kickstarter.com/projects/106325273...</td>\n",
       "      <td>https://www.kickstarter.com/projects/106325273...</td>\n",
       "    </tr>\n",
       "    <tr>\n",
       "      <th>9</th>\n",
       "      <td>KS_000009</td>\n",
       "      <td>25</td>\n",
       "      <td>Art, Music, and Theater live on the Waterfront...</td>\n",
       "      <td>art</td>\n",
       "      <td>5001</td>\n",
       "      <td>US</td>\n",
       "      <td>1330979179</td>\n",
       "      <td>USD</td>\n",
       "      <td>1335443088</td>\n",
       "      <td>1.0</td>\n",
       "      <td>...</td>\n",
       "      <td>1332851088</td>\n",
       "      <td>Arts on the Waterfront</td>\n",
       "      <td>5001.00</td>\n",
       "      <td>False</td>\n",
       "      <td>5001.00</td>\n",
       "      <td>Seattle, WA</td>\n",
       "      <td>True</td>\n",
       "      <td>public art</td>\n",
       "      <td>https://www.kickstarter.com/projects/139851890...</td>\n",
       "      <td>https://www.kickstarter.com/projects/139851890...</td>\n",
       "    </tr>\n",
       "  </tbody>\n",
       "</table>\n",
       "<p>10 rows × 21 columns</p>\n",
       "</div>"
      ],
      "text/plain": [
       "  project_id  backers_count  \\\n",
       "0  KS_000000             80   \n",
       "1  KS_000001             82   \n",
       "2  KS_000002             21   \n",
       "3  KS_000003             37   \n",
       "4  KS_000004            153   \n",
       "5  KS_000005             18   \n",
       "6  KS_000006            156   \n",
       "7  KS_000007            479   \n",
       "8  KS_000008             41   \n",
       "9  KS_000009             25   \n",
       "\n",
       "                                               blurb category  \\\n",
       "0  I will be an artist-in-residence at Elsewhere ...      art   \n",
       "1  1000 Artists is a public art-making installati...      art   \n",
       "2  The Sequel to ‘My Favorite Machine”, \"MyPhoneH...      art   \n",
       "3  A film exploring the role and value of art edu...      art   \n",
       "4  We need to build a kitchen for Habitable Space...      art   \n",
       "5  Source Material is 2 person exhibition of the ...      art   \n",
       "6  An anthropological field study of the Dwarven ...      art   \n",
       "7  Portrait artist seeks funds to kickstart an ex...      art   \n",
       "8  This is a month long Residency at the The Verm...      art   \n",
       "9  Art, Music, and Theater live on the Waterfront...      art   \n",
       "\n",
       "   converted_pledged_amount country  created_at currency    deadline  fx_rate  \\\n",
       "0                      3596      US  1325980505      USD  1334866560      1.0   \n",
       "1                      4586      US  1330926084      USD  1336440145      1.0   \n",
       "2                      5217      US  1332382894      USD  1338175739      1.0   \n",
       "3                      7160      GB  1332342451      USD  1334806096      1.0   \n",
       "4                     15445      US  1328562617      USD  1335584240      1.0   \n",
       "5                      2190      US  1331239703      USD  1336090320      1.0   \n",
       "6                      5429      US  1332802530      USD  1334030340      1.0   \n",
       "7                     62736      US  1331325438      USD  1335671940      1.0   \n",
       "8                      2930      US  1331904129      USD  1336736610      1.0   \n",
       "9                      5001      US  1330979179      USD  1335443088      1.0   \n",
       "\n",
       "   ...  launched_at                                               name  \\\n",
       "0  ...   1332969260     Elsewhere Studios artist-in-residency program!   \n",
       "1  ...   1332984145       1000 Artists: Presidential Inauguration 2013   \n",
       "2  ...   1332991739                                       MyPhoneHenge   \n",
       "3  ...   1332991696                                       Walk-Through   \n",
       "4  ...   1332992240                     A kitchen for Habitable Spaces   \n",
       "5  ...   1333017856  Source Material: Works by Brian Dupont and Chr...   \n",
       "6  ...   1333045464                                  A Book of Dwarves   \n",
       "7  ...   1332822807                              Drawing a Drawing 365   \n",
       "8  ...   1332848610  The Vermont Studio Center Artist Residency Pro...   \n",
       "9  ...   1332851088                             Arts on the Waterfront   \n",
       "\n",
       "    pledged  staff_pick  usd_pledged         location funded  subcategory  \\\n",
       "0   3596.00       False      3596.00       Paonia, CO   True  mixed media   \n",
       "1   4586.00       False      4586.00   Washington, DC   True   public art   \n",
       "2   5217.00       False      5217.00       Frisco, TX   True    sculpture   \n",
       "3   7160.00       False      7160.00      Glasgow, UK   True          art   \n",
       "4  15445.00       False     15445.00    Kingsbury, TX   True   public art   \n",
       "5   2190.00       False      2190.00      Houston, TX   True     painting   \n",
       "6   5429.95       False      5429.95      Chicago, IL   True          art   \n",
       "7  62736.01        True     62736.01  New Britain, CT   True     painting   \n",
       "8   2930.00        True      2930.00      Johnson, VT   True     painting   \n",
       "9   5001.00       False      5001.00      Seattle, WA   True   public art   \n",
       "\n",
       "                                         project_url  \\\n",
       "0  https://www.kickstarter.com/projects/hilaryeme...   \n",
       "1  https://www.kickstarter.com/projects/17146650/...   \n",
       "2  https://www.kickstarter.com/projects/belveal/m...   \n",
       "3  https://www.kickstarter.com/projects/107813091...   \n",
       "4  https://www.kickstarter.com/projects/104409276...   \n",
       "5  https://www.kickstarter.com/projects/973860748...   \n",
       "6  https://www.kickstarter.com/projects/136757708...   \n",
       "7  https://www.kickstarter.com/projects/michaelsh...   \n",
       "8  https://www.kickstarter.com/projects/106325273...   \n",
       "9  https://www.kickstarter.com/projects/139851890...   \n",
       "\n",
       "                                          reward_url  \n",
       "0  https://www.kickstarter.com/projects/hilaryeme...  \n",
       "1  https://www.kickstarter.com/projects/17146650/...  \n",
       "2  https://www.kickstarter.com/projects/belveal/m...  \n",
       "3  https://www.kickstarter.com/projects/107813091...  \n",
       "4  https://www.kickstarter.com/projects/104409276...  \n",
       "5  https://www.kickstarter.com/projects/973860748...  \n",
       "6  https://www.kickstarter.com/projects/136757708...  \n",
       "7  https://www.kickstarter.com/projects/michaelsh...  \n",
       "8  https://www.kickstarter.com/projects/106325273...  \n",
       "9  https://www.kickstarter.com/projects/139851890...  \n",
       "\n",
       "[10 rows x 21 columns]"
      ]
     },
     "execution_count": 104,
     "metadata": {},
     "output_type": "execute_result"
    }
   ],
   "source": [
    "dataFrame.head(10)"
   ]
  },
  {
   "cell_type": "markdown",
   "metadata": {},
   "source": [
    "***\n",
    "```\n",
    "COL's VARS:\n",
    "\n",
    "1)project_id\n",
    "2)backers_count : number of supporters of the project (quantitative)\n",
    "3)blurb : description of the project (qualitative)\n",
    "4)category (qualitative)\n",
    "5)converted_pledged_amount : funding amount ?? (quantitative). It's into integers\n",
    "6)country (qualitative)\n",
    "7)created_at (quantitative)\n",
    "8)currency (qualitative)\n",
    "9)deadline (quanatitative)\n",
    "10)fx_rate : exchange rate (quantitative)\n",
    "11)goal : goal of expected fundings (quantitative)\n",
    "12)launched_at: (quantitative)\n",
    "13)name : name of the project (qualitative)\n",
    "14)pledged : funding amount ?? (quantitative). It's into floats (.00)\n",
    "15)staff_pick : projects picked or not picked (Boolean -> True/False)\n",
    "16)usd_pledged : funding amount in dollars ?? (quantitative). It's into floats (.00) != pledged\n",
    "17)location: City, State(abbreviation)/Country \n",
    "18)funded : projects funded or not funded (Boolean -> True/False) --> MOST IMPORTANT\n",
    "19)subcategory (qualitative)\n",
    "20)project_url (link)\n",
    "21)reward_url (link)\n",
    "\n",
    "```\n",
    "***"
   ]
  },
  {
   "cell_type": "code",
   "execution_count": 105,
   "metadata": {},
   "outputs": [
    {
     "data": {
      "text/plain": [
       "count     100000\n",
       "unique         2\n",
       "top         True\n",
       "freq       58454\n",
       "Name: funded, dtype: object"
      ]
     },
     "execution_count": 105,
     "metadata": {},
     "output_type": "execute_result"
    }
   ],
   "source": [
    "dataFrame['funded'].describe()"
   ]
  },
  {
   "cell_type": "markdown",
   "metadata": {},
   "source": [
    "***\n",
    "```\n",
    "Most projects have been funded (58454) compared to (41546) not funded\n",
    "\n",
    "```\n",
    "***"
   ]
  },
  {
   "cell_type": "markdown",
   "metadata": {},
   "source": [
    "***\n",
    "```\n",
    "\n",
    "List of COL's VARS which might not be relevant:\n",
    "\n",
    "3)blurb \n",
    "20)project_url\n",
    "21)reward_url \n",
    "16)usd_pledged \n",
    "\n",
    "```\n",
    "***"
   ]
  },
  {
   "cell_type": "markdown",
   "metadata": {},
   "source": [
    "***\n",
    "```\n",
    "\n",
    "Check if the dataFrame.usd_pledged != dataFrame.pledged or equal to be eliminated --> they are different \n",
    "\n",
    "```\n",
    "***"
   ]
  },
  {
   "cell_type": "code",
   "execution_count": 106,
   "metadata": {},
   "outputs": [
    {
     "name": "stdout",
     "output_type": "stream",
     "text": [
      "      project_id  backers_count  \\\n",
      "997    KS_000997              4   \n",
      "998    KS_000998              1   \n",
      "1005   KS_001005              4   \n",
      "1012   KS_001012              5   \n",
      "1022   KS_001022              1   \n",
      "...          ...            ...   \n",
      "99976  KS_099976            187   \n",
      "99981  KS_099981             97   \n",
      "99984  KS_099984            128   \n",
      "99990  KS_099990             59   \n",
      "99999  KS_099999            145   \n",
      "\n",
      "                                                   blurb category  \\\n",
      "997    \"SPLASH OUT THE SOUND PROJECT\"! We makes ceram...      art   \n",
      "998    Tell me about your taste and i will create a p...      art   \n",
      "1005   Series of artistic pieces in ceramics, inspire...      art   \n",
      "1012   A gorgeously illustrated, vintage inspired cal...      art   \n",
      "1022   we are creating a ceramics studio within our s...      art   \n",
      "...                                                  ...      ...   \n",
      "99976  Love comedy? Get involved in creating a dedica...  theater   \n",
      "99981  We're an affordable theatre and rental space t...  theater   \n",
      "99984  Introducing The Post at 750! Join us in the cr...  theater   \n",
      "99990  Help the hosts of the infamous St. Michael sus...  theater   \n",
      "99999  Be part of building Cardiff's first pub theatr...  theater   \n",
      "\n",
      "       converted_pledged_amount country  created_at currency    deadline  \\\n",
      "997                         428      IT  1508774966      EUR  1511377371   \n",
      "998                           8      CA  1507558551      CAD  1515470891   \n",
      "1005                         73      MX  1496671505      MXN  1500058800   \n",
      "1012                        315      AU  1467278156      AUD  1471770761   \n",
      "1022                         11      FR  1464017964      EUR  1469224448   \n",
      "...                         ...     ...         ...      ...         ...   \n",
      "99976                     13502      DE  1435819972      EUR  1444291193   \n",
      "99981                      7443      CA  1415818568      CAD  1418580591   \n",
      "99984                     13202      CA  1426275202      CAD  1429152600   \n",
      "99990                      2215      GB  1409561898      GBP  1412335772   \n",
      "99999                     12639      GB  1398597170      GBP  1401465600   \n",
      "\n",
      "        fx_rate  ...  launched_at  \\\n",
      "997    1.245664  ...   1508781771   \n",
      "998    0.800599  ...   1512014891   \n",
      "1005   0.053931  ...   1498186224   \n",
      "1012   0.793186  ...   1469956361   \n",
      "1022   1.245664  ...   1466632448   \n",
      "...         ...  ...          ...   \n",
      "99976  1.237765  ...   1441699193   \n",
      "99981  0.795439  ...   1415988591   \n",
      "99984  0.795439  ...   1426815699   \n",
      "99990  1.389543  ...   1409743772   \n",
      "99999  1.389543  ...   1399032813   \n",
      "\n",
      "                                                    name   pledged  \\\n",
      "997     \"SPLASH OUT THE SOUND\" WHALES CERAMIC AMPLIFIERS    365.00   \n",
      "998                Pearson's Pottery Commissions Project     10.00   \n",
      "1005                                             REVOLVE   1310.00   \n",
      "1012                 Illustrated Ceramic Artist Calendar    414.00   \n",
      "1022         The Ceramics Studio at The Maison Salvadore     10.00   \n",
      "...                                                  ...       ...   \n",
      "99976  Berlin's first international, alternative come...  11998.01   \n",
      "99981               ONTARIO STREET THEATRE in Port Hope.   8620.00   \n",
      "99984                   Like This Post (The Post at 750)  16501.00   \n",
      "99990   St. Michael Boat Parties - Halloween and Beyond!   1373.24   \n",
      "99999       The Other Room – Cardiff’s First Pub Theatre   7555.00   \n",
      "\n",
      "       staff_pick   usd_pledged             location funded  subcategory  \\\n",
      "997         False    430.170889      Cagliari, Italy  False     ceramics   \n",
      "998         False      7.838981   Crossfield, Canada  False     ceramics   \n",
      "1005        False     71.878102  Mexico City, Mexico  False     ceramics   \n",
      "1012        False    314.691295         Brisbane, AU  False     ceramics   \n",
      "1022        False     11.335041   Le Vigeant, France  False     ceramics   \n",
      "...           ...           ...                  ...    ...          ...   \n",
      "99976        True  13381.734974      Berlin, Germany   True       spaces   \n",
      "99981       False   7615.009199    Port Hope, Canada   True       spaces   \n",
      "99984       False  12900.295339    Vancouver, Canada   True       spaces   \n",
      "99990       False   2277.788560           London, UK   True       spaces   \n",
      "99999       False  12753.401034          Cardiff, UK   True       spaces   \n",
      "\n",
      "                                             project_url  \\\n",
      "997    https://www.kickstarter.com/projects/700393837...   \n",
      "998    https://www.kickstarter.com/projects/118921752...   \n",
      "1005   https://www.kickstarter.com/projects/340987520...   \n",
      "1012   https://www.kickstarter.com/projects/131764891...   \n",
      "1022   https://www.kickstarter.com/projects/maisonsal...   \n",
      "...                                                  ...   \n",
      "99976  https://www.kickstarter.com/projects/noahtelso...   \n",
      "99981  https://www.kickstarter.com/projects/135914549...   \n",
      "99984  https://www.kickstarter.com/projects/193854085...   \n",
      "99990  https://www.kickstarter.com/projects/617004672...   \n",
      "99999  https://www.kickstarter.com/projects/159603433...   \n",
      "\n",
      "                                              reward_url  \n",
      "997    https://www.kickstarter.com/projects/700393837...  \n",
      "998    https://www.kickstarter.com/projects/118921752...  \n",
      "1005   https://www.kickstarter.com/projects/340987520...  \n",
      "1012   https://www.kickstarter.com/projects/131764891...  \n",
      "1022   https://www.kickstarter.com/projects/maisonsal...  \n",
      "...                                                  ...  \n",
      "99976  https://www.kickstarter.com/projects/noahtelso...  \n",
      "99981  https://www.kickstarter.com/projects/135914549...  \n",
      "99984  https://www.kickstarter.com/projects/193854085...  \n",
      "99990  https://www.kickstarter.com/projects/617004672...  \n",
      "99999  https://www.kickstarter.com/projects/159603433...  \n",
      "\n",
      "[16895 rows x 21 columns]\n"
     ]
    }
   ],
   "source": [
    "gains = dataFrame[dataFrame.usd_pledged != dataFrame.pledged]\n",
    "print(gains)"
   ]
  },
  {
   "cell_type": "markdown",
   "metadata": {},
   "source": [
    "***\n",
    "```\n",
    "\n",
    "We are going to eliminate these 3 variables as they are not usefull for the analysis \n",
    "3)blurb \n",
    "20)project_url\n",
    "21)reward_url \n",
    "\n",
    "\n",
    "```\n",
    "***"
   ]
  },
  {
   "cell_type": "code",
   "execution_count": 107,
   "metadata": {},
   "outputs": [],
   "source": [
    "dataFrame = dataFrame.drop(columns=['blurb','project_url', 'reward_url'])"
   ]
  },
  {
   "cell_type": "code",
   "execution_count": 108,
   "metadata": {},
   "outputs": [
    {
     "name": "stdout",
     "output_type": "stream",
     "text": [
      "Empty DataFrame\n",
      "Columns: [project_id, backers_count, category, converted_pledged_amount, country, created_at, currency, deadline, fx_rate, goal, launched_at, name, pledged, staff_pick, usd_pledged, location, funded, subcategory]\n",
      "Index: []\n"
     ]
    }
   ],
   "source": [
    "duplicateRows = dataFrame[dataFrame.duplicated()]\n",
    "print(duplicateRows)"
   ]
  },
  {
   "cell_type": "markdown",
   "metadata": {},
   "source": [
    "There are no duplicate rows."
   ]
  },
  {
   "cell_type": "code",
   "execution_count": 109,
   "metadata": {
    "scrolled": true
   },
   "outputs": [
    {
     "data": {
      "text/plain": [
       "project_id                  0\n",
       "backers_count               0\n",
       "category                    0\n",
       "converted_pledged_amount    0\n",
       "country                     3\n",
       "created_at                  0\n",
       "currency                    0\n",
       "deadline                    0\n",
       "fx_rate                     0\n",
       "goal                        0\n",
       "launched_at                 0\n",
       "name                        1\n",
       "pledged                     0\n",
       "staff_pick                  0\n",
       "usd_pledged                 0\n",
       "location                    0\n",
       "funded                      0\n",
       "subcategory                 0\n",
       "dtype: int64"
      ]
     },
     "execution_count": 109,
     "metadata": {},
     "output_type": "execute_result"
    }
   ],
   "source": [
    "(dataFrame.isnull()).sum()"
   ]
  },
  {
   "cell_type": "code",
   "execution_count": 110,
   "metadata": {},
   "outputs": [],
   "source": [
    "dataFrame = dataFrame.dropna(how='any',axis=0)"
   ]
  },
  {
   "cell_type": "code",
   "execution_count": 111,
   "metadata": {},
   "outputs": [
    {
     "data": {
      "text/plain": [
       "project_id                  0\n",
       "backers_count               0\n",
       "category                    0\n",
       "converted_pledged_amount    0\n",
       "country                     0\n",
       "created_at                  0\n",
       "currency                    0\n",
       "deadline                    0\n",
       "fx_rate                     0\n",
       "goal                        0\n",
       "launched_at                 0\n",
       "name                        0\n",
       "pledged                     0\n",
       "staff_pick                  0\n",
       "usd_pledged                 0\n",
       "location                    0\n",
       "funded                      0\n",
       "subcategory                 0\n",
       "dtype: int64"
      ]
     },
     "execution_count": 111,
     "metadata": {},
     "output_type": "execute_result"
    }
   ],
   "source": [
    "(dataFrame.isnull()).sum()"
   ]
  },
  {
   "cell_type": "markdown",
   "metadata": {},
   "source": [
    "We removed all the rows with null v alues"
   ]
  },
  {
   "cell_type": "code",
   "execution_count": 112,
   "metadata": {},
   "outputs": [
    {
     "data": {
      "text/plain": [
       "<AxesSubplot:>"
      ]
     },
     "execution_count": 112,
     "metadata": {},
     "output_type": "execute_result"
    },
    {
     "data": {
      "image/png": "[encoded data removed]",
      "text/plain": [
       "<Figure size 1080x1080 with 2 Axes>"
      ]
     },
     "metadata": {
      "needs_background": "light"
     },
     "output_type": "display_data"
    }
   ],
   "source": [
    "corrmat = dataFrame.corr()\n",
    "fig, ax = plt.subplots(figsize=(15,15)) \n",
    "sns.heatmap(corrmat, square= True, annot = True, linewidths=.1, ax=ax)"
   ]
  },
  {
   "cell_type": "markdown",
   "metadata": {},
   "source": [
    "The 10 features which most strongly correlate with <i>funded</i>"
   ]
  },
  {
   "cell_type": "code",
   "execution_count": 113,
   "metadata": {},
   "outputs": [
    {
     "data": {
      "text/plain": [
       "<AxesSubplot:>"
      ]
     },
     "execution_count": 113,
     "metadata": {},
     "output_type": "execute_result"
    },
    {
     "data": {
      "image/png": "[encoded data removed]",
      "text/plain": [
       "<Figure size 432x288 with 2 Axes>"
      ]
     },
     "metadata": {
      "needs_background": "light"
     },
     "output_type": "display_data"
    }
   ],
   "source": [
    "corrmat = dataFrame.corr()\n",
    "cols = corrmat.nlargest(10, 'funded').index\n",
    "sns.heatmap(corrmat.loc[cols, cols], square= True, annot = True)"
   ]
  },
  {
   "cell_type": "markdown",
   "metadata": {},
   "source": [
    "The variable which correlates the most with funded is staff_pick. It is followed by backers_count and all the money-rellated variables. The least correlated ones are the time-frame-related ones, like launched_at and deadline"
   ]
  },
  {
   "cell_type": "markdown",
   "metadata": {},
   "source": [
    "Check if all the values of the most relevant columns are consistent with each other"
   ]
  },
  {
   "cell_type": "code",
   "execution_count": 114,
   "metadata": {},
   "outputs": [
    {
     "data": {
      "text/plain": [
       "True"
      ]
     },
     "execution_count": 114,
     "metadata": {},
     "output_type": "execute_result"
    }
   ],
   "source": [
    "np.issubdtype(dataFrame['usd_pledged'].dtype, np.number)"
   ]
  },
  {
   "cell_type": "code",
   "execution_count": 115,
   "metadata": {},
   "outputs": [
    {
     "data": {
      "text/plain": [
       "True"
      ]
     },
     "execution_count": 115,
     "metadata": {},
     "output_type": "execute_result"
    }
   ],
   "source": [
    "np.issubdtype(dataFrame['backers_count'].dtype, np.number)"
   ]
  },
  {
   "cell_type": "code",
   "execution_count": 116,
   "metadata": {},
   "outputs": [
    {
     "data": {
      "text/plain": [
       "True"
      ]
     },
     "execution_count": 116,
     "metadata": {},
     "output_type": "execute_result"
    }
   ],
   "source": [
    "np.issubdtype(dataFrame['staff_pick'].dtype, np.bool)"
   ]
  },
  {
   "cell_type": "code",
   "execution_count": 117,
   "metadata": {},
   "outputs": [
    {
     "data": {
      "text/plain": [
       "True"
      ]
     },
     "execution_count": 117,
     "metadata": {},
     "output_type": "execute_result"
    }
   ],
   "source": [
    "np.issubdtype(dataFrame['funded'].dtype, np.bool)"
   ]
  },
  {
   "cell_type": "markdown",
   "metadata": {},
   "source": [
    "There are no typos"
   ]
  },
  {
   "cell_type": "code",
   "execution_count": 118,
   "metadata": {},
   "outputs": [
    {
     "data": {
      "text/plain": [
       "count    9.999600e+04\n",
       "mean     1.241151e+04\n",
       "std      1.005565e+05\n",
       "min      0.000000e+00\n",
       "25%      1.250000e+02\n",
       "50%      1.650000e+03\n",
       "75%      6.272000e+03\n",
       "max      1.026684e+07\n",
       "Name: converted_pledged_amount, dtype: float64"
      ]
     },
     "execution_count": 118,
     "metadata": {},
     "output_type": "execute_result"
    }
   ],
   "source": [
    "dataFrame.converted_pledged_amount.describe()"
   ]
  },
  {
   "cell_type": "code",
   "execution_count": 119,
   "metadata": {
    "scrolled": true
   },
   "outputs": [
    {
     "data": {
      "image/png": "[encoded data removed]",
      "text/plain": [
       "<Figure size 432x288 with 1 Axes>"
      ]
     },
     "metadata": {
      "needs_background": "light"
     },
     "output_type": "display_data"
    }
   ],
   "source": [
    "ax = dataFrame.plot.scatter(x = \"pledged\", y = \"usd_pledged\")"
   ]
  },
  {
   "cell_type": "markdown",
   "metadata": {},
   "source": [
    "Boxplot represantion of the funded amount for each category"
   ]
  },
  {
   "cell_type": "code",
   "execution_count": 120,
   "metadata": {},
   "outputs": [
    {
     "data": {
      "image/png": "[encoded data removed]",
      "text/plain": [
       "<Figure size 432x288 with 1 Axes>"
      ]
     },
     "metadata": {
      "needs_background": "light"
     },
     "output_type": "display_data"
    }
   ],
   "source": [
    "ax = dataFrame.plot.scatter(x = \"backers_count\", y = \"converted_pledged_amount\")"
   ]
  },
  {
   "cell_type": "code",
   "execution_count": 121,
   "metadata": {},
   "outputs": [
    {
     "data": {
      "image/png": "[encoded data removed]",
      "text/plain": [
       "<Figure size 432x288 with 1 Axes>"
      ]
     },
     "metadata": {
      "needs_background": "light"
     },
     "output_type": "display_data"
    }
   ],
   "source": [
    "ax = dataFrame.plot.scatter(x = \"backers_count\", y = \"usd_pledged\")"
   ]
  },
  {
   "cell_type": "markdown",
   "metadata": {},
   "source": [
    "We used this call to see the number of total projects that are left after data cleaning"
   ]
  },
  {
   "cell_type": "markdown",
   "metadata": {},
   "source": [
    "Boxplot that represents the funded amount for each category"
   ]
  },
  {
   "cell_type": "code",
   "execution_count": 122,
   "metadata": {},
   "outputs": [
    {
     "data": {
      "text/plain": [
       "<AxesSubplot:xlabel='converted_pledged_amount', ylabel='category'>"
      ]
     },
     "execution_count": 122,
     "metadata": {},
     "output_type": "execute_result"
    },
    {
     "data": {
      "image/png": "[encoded data removed]",
      "text/plain": [
       "<Figure size 432x288 with 1 Axes>"
      ]
     },
     "metadata": {
      "needs_background": "light"
     },
     "output_type": "display_data"
    }
   ],
   "source": [
    "usd_pledged = dataFrame['converted_pledged_amount']\n",
    "category = dataFrame['category']\n",
    "sns.boxplot(x=usd_pledged, y=category)"
   ]
  },
  {
   "cell_type": "markdown",
   "metadata": {},
   "source": [
    "Check the funded amount for each category"
   ]
  },
  {
   "cell_type": "markdown",
   "metadata": {},
   "source": [
    "This boxplot is used in order to see the values that are above the upper bound of the currency column"
   ]
  },
  {
   "cell_type": "code",
   "execution_count": 123,
   "metadata": {},
   "outputs": [
    {
     "data": {
      "text/plain": [
       "<AxesSubplot:xlabel='converted_pledged_amount', ylabel='currency'>"
      ]
     },
     "execution_count": 123,
     "metadata": {},
     "output_type": "execute_result"
    },
    {
     "data": {
      "image/png": "[encoded data removed]",
      "text/plain": [
       "<Figure size 432x288 with 1 Axes>"
      ]
     },
     "metadata": {
      "needs_background": "light"
     },
     "output_type": "display_data"
    }
   ],
   "source": [
    "sns.boxplot(x=dataFrame.converted_pledged_amount, y = dataFrame.currency)"
   ]
  },
  {
   "cell_type": "markdown",
   "metadata": {},
   "source": [
    " Caps outliers to closest existing value within threshold (IQR).\n",
    " Identifying the upper bound for most relevant quantitative variables, and dropping the outliers accordingly"
   ]
  },
  {
   "cell_type": "code",
   "execution_count": 124,
   "metadata": {},
   "outputs": [],
   "source": [
    "def cap_outliers(series, iqr_threshold=1.5, verbose=False):\n",
    "    '''Caps outliers to closest existing value within threshold (IQR).'''\n",
    "    Q1 = series.quantile(0.25)\n",
    "    Q3 = series.quantile(0.75)\n",
    "    IQR = Q3 - Q1\n",
    "\n",
    "    lbound = Q1 - iqr_threshold * IQR\n",
    "    ubound = Q3 + iqr_threshold * IQR\n",
    "\n",
    "    outliers = (series < lbound) | (series > ubound)\n",
    "\n",
    "    series = series.copy()\n",
    "    series.loc[series < lbound] = series.loc[~outliers].min()\n",
    "    series.loc[series > ubound] = series.loc[~outliers].max()\n",
    "\n",
    "    # For comparison purposes.\n",
    "    if verbose:\n",
    "            print('\\n'.join(\n",
    "                ['Capping outliers by the IQR method:',\n",
    "                 f'   IQR threshold: {iqr_threshold}',\n",
    "                 f'   Lower bound: {lbound}',\n",
    "                 f'   Upper bound: {ubound}\\n']))\n",
    "\n",
    "    return series"
   ]
  },
  {
   "cell_type": "markdown",
   "metadata": {},
   "source": [
    "Drop some outliers of the converted_pledged_amount variable based on its Upper-bound values"
   ]
  },
  {
   "cell_type": "code",
   "execution_count": 125,
   "metadata": {},
   "outputs": [
    {
     "name": "stdout",
     "output_type": "stream",
     "text": [
      "Capping outliers by the IQR method:\n",
      "   IQR threshold: 1.5\n",
      "   Lower bound: -9095.5\n",
      "   Upper bound: 15492.5\n",
      "\n"
     ]
    },
    {
     "data": {
      "text/plain": [
       "count    87968.000000\n",
       "mean      2687.762027\n",
       "std       3537.127065\n",
       "min          0.000000\n",
       "25%         75.000000\n",
       "50%       1099.000000\n",
       "75%       4004.000000\n",
       "max      15489.000000\n",
       "Name: converted_pledged_amount, dtype: float64"
      ]
     },
     "execution_count": 125,
     "metadata": {},
     "output_type": "execute_result"
    }
   ],
   "source": [
    "cap_outliers(dataFrame['converted_pledged_amount'], verbose=True)\n",
    "converted_pledged_amount_to_drop_upper_bound = dataFrame.index[dataFrame.converted_pledged_amount > 15491.25]\n",
    "converted_pledged_amount_to_drop_lower_bound = dataFrame.index[dataFrame.converted_pledged_amount < -9094.75]\n",
    "dataFrame.drop(converted_pledged_amount_to_drop_lower_bound, inplace=True)\n",
    "dataFrame.drop(converted_pledged_amount_to_drop_upper_bound, inplace=True)\n",
    "dataFrame.converted_pledged_amount.describe()"
   ]
  },
  {
   "cell_type": "markdown",
   "metadata": {},
   "source": [
    "Derive a new column called funded_amount_per_backer as the first additional feature, and check if it was funded, if thats the case divide them, else assign 0."
   ]
  },
  {
   "cell_type": "code",
   "execution_count": 126,
   "metadata": {
    "scrolled": true
   },
   "outputs": [
    {
     "data": {
      "text/html": [
       "<div>\n",
       "<style scoped>\n",
       "    .dataframe tbody tr th:only-of-type {\n",
       "        vertical-align: middle;\n",
       "    }\n",
       "\n",
       "    .dataframe tbody tr th {\n",
       "        vertical-align: top;\n",
       "    }\n",
       "\n",
       "    .dataframe thead th {\n",
       "        text-align: right;\n",
       "    }\n",
       "</style>\n",
       "<table border=\"1\" class=\"dataframe\">\n",
       "  <thead>\n",
       "    <tr style=\"text-align: right;\">\n",
       "      <th></th>\n",
       "      <th>project_id</th>\n",
       "      <th>backers_count</th>\n",
       "      <th>category</th>\n",
       "      <th>converted_pledged_amount</th>\n",
       "      <th>country</th>\n",
       "      <th>created_at</th>\n",
       "      <th>currency</th>\n",
       "      <th>deadline</th>\n",
       "      <th>fx_rate</th>\n",
       "      <th>goal</th>\n",
       "      <th>launched_at</th>\n",
       "      <th>name</th>\n",
       "      <th>pledged</th>\n",
       "      <th>staff_pick</th>\n",
       "      <th>usd_pledged</th>\n",
       "      <th>location</th>\n",
       "      <th>funded</th>\n",
       "      <th>subcategory</th>\n",
       "      <th>funded_amount_per_backer</th>\n",
       "    </tr>\n",
       "  </thead>\n",
       "  <tbody>\n",
       "    <tr>\n",
       "      <th>0</th>\n",
       "      <td>KS_000000</td>\n",
       "      <td>80</td>\n",
       "      <td>art</td>\n",
       "      <td>3596</td>\n",
       "      <td>US</td>\n",
       "      <td>1325980505</td>\n",
       "      <td>USD</td>\n",
       "      <td>1334866560</td>\n",
       "      <td>1.0</td>\n",
       "      <td>2800.0</td>\n",
       "      <td>1332969260</td>\n",
       "      <td>Elsewhere Studios artist-in-residency program!</td>\n",
       "      <td>3596.0</td>\n",
       "      <td>False</td>\n",
       "      <td>3596.0</td>\n",
       "      <td>Paonia, CO</td>\n",
       "      <td>True</td>\n",
       "      <td>mixed media</td>\n",
       "      <td>44.95</td>\n",
       "    </tr>\n",
       "    <tr>\n",
       "      <th>1</th>\n",
       "      <td>KS_000001</td>\n",
       "      <td>82</td>\n",
       "      <td>art</td>\n",
       "      <td>4586</td>\n",
       "      <td>US</td>\n",
       "      <td>1330926084</td>\n",
       "      <td>USD</td>\n",
       "      <td>1336440145</td>\n",
       "      <td>1.0</td>\n",
       "      <td>4500.0</td>\n",
       "      <td>1332984145</td>\n",
       "      <td>1000 Artists: Presidential Inauguration 2013</td>\n",
       "      <td>4586.0</td>\n",
       "      <td>False</td>\n",
       "      <td>4586.0</td>\n",
       "      <td>Washington, DC</td>\n",
       "      <td>True</td>\n",
       "      <td>public art</td>\n",
       "      <td>55.93</td>\n",
       "    </tr>\n",
       "    <tr>\n",
       "      <th>2</th>\n",
       "      <td>KS_000002</td>\n",
       "      <td>21</td>\n",
       "      <td>art</td>\n",
       "      <td>5217</td>\n",
       "      <td>US</td>\n",
       "      <td>1332382894</td>\n",
       "      <td>USD</td>\n",
       "      <td>1338175739</td>\n",
       "      <td>1.0</td>\n",
       "      <td>5000.0</td>\n",
       "      <td>1332991739</td>\n",
       "      <td>MyPhoneHenge</td>\n",
       "      <td>5217.0</td>\n",
       "      <td>False</td>\n",
       "      <td>5217.0</td>\n",
       "      <td>Frisco, TX</td>\n",
       "      <td>True</td>\n",
       "      <td>sculpture</td>\n",
       "      <td>248.43</td>\n",
       "    </tr>\n",
       "  </tbody>\n",
       "</table>\n",
       "</div>"
      ],
      "text/plain": [
       "  project_id  backers_count category  converted_pledged_amount country  \\\n",
       "0  KS_000000             80      art                      3596      US   \n",
       "1  KS_000001             82      art                      4586      US   \n",
       "2  KS_000002             21      art                      5217      US   \n",
       "\n",
       "   created_at currency    deadline  fx_rate    goal  launched_at  \\\n",
       "0  1325980505      USD  1334866560      1.0  2800.0   1332969260   \n",
       "1  1330926084      USD  1336440145      1.0  4500.0   1332984145   \n",
       "2  1332382894      USD  1338175739      1.0  5000.0   1332991739   \n",
       "\n",
       "                                             name  pledged  staff_pick  \\\n",
       "0  Elsewhere Studios artist-in-residency program!   3596.0       False   \n",
       "1    1000 Artists: Presidential Inauguration 2013   4586.0       False   \n",
       "2                                    MyPhoneHenge   5217.0       False   \n",
       "\n",
       "   usd_pledged        location  funded  subcategory  funded_amount_per_backer  \n",
       "0       3596.0      Paonia, CO    True  mixed media                     44.95  \n",
       "1       4586.0  Washington, DC    True   public art                     55.93  \n",
       "2       5217.0      Frisco, TX    True    sculpture                    248.43  "
      ]
     },
     "execution_count": 126,
     "metadata": {},
     "output_type": "execute_result"
    }
   ],
   "source": [
    "dataFrame['funded_amount_per_backer'] = np.where(dataFrame['funded'] == True , \n",
    "                                                 dataFrame.converted_pledged_amount / dataFrame.backers_count,\n",
    "                                                0)\n",
    "dataFrame.funded_amount_per_backer = dataFrame.funded_amount_per_backer.round(2)\n",
    "dataFrame.head(3)"
   ]
  },
  {
   "cell_type": "markdown",
   "metadata": {},
   "source": [
    "Addition of the second feature named project_time which represents the duration of the project since its creation until its deadline."
   ]
  },
  {
   "cell_type": "code",
   "execution_count": null,
   "metadata": {
    "scrolled": true
   },
   "outputs": [],
   "source": [
    "dataFrame['project_time'] = [ row.deadline - row.created_at for index, row in dataFrame.iterrows() ]\n",
    "dataFrame['create_to_launch_time'] = [ row.launched_at - row.created_at for index, row in dataFrame.iterrows() ]\n",
    "dataFrame['launch_to_deadline_time'] = [ row.deadline - row.launched_at for index, row in dataFrame.iterrows() ]"
   ]
  },
  {
   "cell_type": "code",
   "execution_count": null,
   "metadata": {
    "scrolled": true
   },
   "outputs": [],
   "source": [
    "dataFrame.head(3)\n",
    "\n",
    "corrmat = dataFrame.corr()\n",
    "fig, ax = plt.subplots(figsize=(15,15)) \n",
    "sns.heatmap(corrmat, square= True, annot = True, linewidths=.1, ax=ax)"
   ]
  },
  {
   "cell_type": "markdown",
   "metadata": {},
   "source": [
    "Reminder : Normalize the data with log-transformation before modelling !!!"
   ]
  },
  {
   "cell_type": "code",
   "execution_count": null,
   "metadata": {
    "scrolled": true
   },
   "outputs": [],
   "source": [
    "# stats.probplot(dataFrame.goal,plot=plt)\n",
    "# dataFrame['log_goal'] = np.where(dataFrame['funded'] == True , np.log(dataFrame.goal), 0)\n",
    "# stats.probplot(dataFrame.log_backers_count,plot=plt)"
   ]
  },
  {
   "cell_type": "code",
   "execution_count": null,
   "metadata": {},
   "outputs": [],
   "source": [
    "df = pd.DataFrame(dataFrame)\n",
    "le = LabelEncoder()\n",
    "\n",
    "dataFrame['category_no'] = le.fit_transform(dataFrame['category'])\n",
    "dataFrame['subcategory_no'] = le.fit_transform(dataFrame['subcategory'])\n",
    "dataFrame['country_no'] = le.fit_transform(dataFrame['country'])\n",
    "\n",
    "dataFrame['log_goal'] = np.log(dataFrame.goal)\n",
    "x=dataFrame[['log_goal', 'category_no', 'subcategory_no', 'staff_pick', 'project_time']]  # Known features\n",
    "y = dataFrame.funded\n",
    "\n",
    "x_train, x_test, y_train, y_test = train_test_split(x, y, test_size = 0.3)\n",
    "modelTest = LinearRegression()\n",
    "modelTest.fit(x,y)\n",
    "print (modelTest.score(x,y))"
   ]
  },
  {
   "cell_type": "markdown",
   "metadata": {},
   "source": [
    "Logistic Regression Model"
   ]
  },
  {
   "cell_type": "code",
   "execution_count": null,
   "metadata": {},
   "outputs": [],
   "source": [
    "df = pd.DataFrame(dataFrame)\n",
    "le = LabelEncoder()\n",
    "\n",
    "dataFrame['category_no'] = le.fit_transform(dataFrame['category'])\n",
    "dataFrame['subcategory_no'] = le.fit_transform(dataFrame['subcategory'])\n",
    "dataFrame['country_no'] = le.fit_transform(dataFrame['country'])\n",
    "\n",
    "dataFrame['log_goal'] = np.log(dataFrame.goal)\n",
    "x=dataFrame[['goal', 'category_no', 'subcategory_no', 'staff_pick', 'project_time']]  # Known features\n",
    "y = dataFrame.funded\n",
    "\n",
    "x_train, x_test, y_train, y_test = train_test_split(x, y, test_size = 0.3)\n",
    "\n",
    "modelTest = LogisticRegression()\n",
    "modelTest.fit(x,y)\n",
    "print (modelTest.score(x,y))"
   ]
  },
  {
   "cell_type": "code",
   "execution_count": null,
   "metadata": {},
   "outputs": [],
   "source": [
    "stats.probplot(dataFrame[\"goal\"],plot=plt)"
   ]
  },
  {
   "cell_type": "markdown",
   "metadata": {},
   "source": [
    "Random Forest"
   ]
  },
  {
   "cell_type": "code",
   "execution_count": 139,
   "metadata": {},
   "outputs": [
    {
     "name": "stdout",
     "output_type": "stream",
     "text": [
      "Accuracy: 0.783183661096586\n"
     ]
    },
    {
     "data": {
      "text/plain": [
       "count     87968\n",
       "unique        2\n",
       "top        True\n",
       "freq      46655\n",
       "Name: FundedPre, dtype: object"
      ]
     },
     "execution_count": 139,
     "metadata": {},
     "output_type": "execute_result"
    }
   ],
   "source": [
    "le = LabelEncoder()\n",
    "\n",
    "dataFrame['log_goal'] = np.log(dataFrame['goal'])\n",
    "# Creating numeric versions of categorical columns\n",
    "dataFrame['category_no'] = le.fit_transform(dataFrame['category'])\n",
    "dataFrame['subcategory_no'] = le.fit_transform(dataFrame['subcategory'])\n",
    "dataFrame['country_no'] = le.fit_transform(dataFrame['country'])\n",
    "\n",
    "from sklearn.ensemble import RandomForestClassifier\n",
    "\n",
    "X =dataFrame[['goal', 'category_no', 'subcategory_no', 'staff_pick', 'project_time']]  # Known features\n",
    "y = dataFrame['funded']  # To be predicted\n",
    "\n",
    "# Split the dataset into a training- and test set\n",
    "X_train, X_test, y_train, y_test = train_test_split(X, y, test_size=0.3)\n",
    "\n",
    "# Create a Gaussian Classifier\n",
    "clf = RandomForestClassifier(n_estimators=20)\n",
    "\n",
    "# Train the model with the training features\n",
    "clf.fit(X_train,y_train)\n",
    "\n",
    "y_pred = clf.predict(X_test)\n",
    "\n",
    "# Correctness of the classifier (slightly different everytime)\n",
    "print(\"Accuracy:\",metrics.accuracy_score(y_test, y_pred))\n",
    "dataFrame['FundedPre'] = clf.predict(X)\n",
    "dataFrame.FundedPre.describe()\n"
   ]
  },
  {
   "cell_type": "markdown",
   "metadata": {},
   "source": [
    "Neural Network Model"
   ]
  },
  {
   "cell_type": "code",
   "execution_count": null,
   "metadata": {},
   "outputs": [],
   "source": [
    "# model = Sequential()\n",
    "# model.add(Dense(1, input_shape=(3,)))\n",
    "\n",
    "# model.compile(Adam(lr=i), 'mean_squared_error')\n",
    "\n",
    "# history = model.fit(x_train, y_train, epochs = 500, validation_split = 0.1, verbose = 0)\n",
    "# history_dict = history.history\n"
   ]
  },
  {
   "cell_type": "markdown",
   "metadata": {},
   "source": [
    "Training data set addition of new columns "
   ]
  },
  {
   "cell_type": "code",
   "execution_count": null,
   "metadata": {},
   "outputs": [],
   "source": [
    "dataFrameTest = pd.read_csv('KS_test_data.csv', delimiter=';')\n",
    "#dfTest = pd.DataFrame(dataFrameTest)\n",
    "le = LabelEncoder()\n",
    "\n",
    "dataFrameTest['category_no'] = le.fit_transform(dataFrameTest['category'])\n",
    "dataFrameTest['subcategory_no'] = le.fit_transform(dataFrameTest['subcategory'])\n",
    "#dfTest['country_no'] = le.fit_transform(dfTest['country'])\n",
    "dataFrameTest['project_time'] = [ row.deadline - row.created_at for index, row in dataFrameTest.iterrows() ]\n",
    "dataFrameTest['log_goal'] = np.log(dataFrameTest.goal)\n"
   ]
  },
  {
   "cell_type": "code",
   "execution_count": null,
   "metadata": {},
   "outputs": [],
   "source": [
    "dataFrameTest.head(10)"
   ]
  },
  {
   "cell_type": "markdown",
   "metadata": {},
   "source": [
    "Predictions are as follows: 99 False, 77966 True #VERY WEIRD PREDICTIONS"
   ]
  },
  {
   "cell_type": "code",
   "execution_count": null,
   "metadata": {
    "scrolled": true
   },
   "outputs": [],
   "source": [
    "x=dataFrameTest[['goal', 'category_no', 'subcategory_no', 'staff_pick', 'project_time']]  # Known features\n",
    "dataFrameTest['funded'] = clf.predict(x)\n",
    "dataFrameTest.funded.describe()"
   ]
  },
  {
   "cell_type": "markdown",
   "metadata": {},
   "source": [
    "<!-- We maybe removed too much data as now the countis 73906 out of 100K -->"
   ]
  },
  {
   "cell_type": "code",
   "execution_count": null,
   "metadata": {},
   "outputs": [],
   "source": []
  }
 ],
 "metadata": {
  "kernelspec": {
   "display_name": "Python 3",
   "language": "python",
   "name": "python3"
  },
  "language_info": {
   "codemirror_mode": {
    "name": "ipython",
    "version": 3
   },
   "file_extension": ".py",
   "mimetype": "text/x-python",
   "name": "python",
   "nbconvert_exporter": "python",
   "pygments_lexer": "ipython3",
   "version": "3.6.9"
  }
 },
 "nbformat": 4,
 "nbformat_minor": 2
}
